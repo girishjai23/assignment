{
 "cells": [
  {
   "cell_type": "code",
   "execution_count": 1,
   "id": "e0b9bf33-58e2-4cdb-90b4-fa485d51ab09",
   "metadata": {},
   "outputs": [
    {
     "name": "stdout",
     "output_type": "stream",
     "text": [
      "[1, 3, 5, 7, 9, 11, 13, 15, 17, 19, 21, 23, 25]\n"
     ]
    }
   ],
   "source": [
    "#Q1\n",
    "'''def keyword to used to create function'''\n",
    "# To find odd number give list\n",
    "#first to create list of number between 1 to 25\n",
    "list_of_number = []\n",
    "for i in range(1,26):\n",
    "    list_of_number.append(i)\n",
    "\n",
    "def finding_odd_num(list_num):\n",
    "    odd_num_list = []\n",
    "    for i in list_num:\n",
    "        if i%2 != 0:\n",
    "            odd_num_list.append(i)\n",
    "    return odd_num_list\n",
    "\n",
    "odd_elements = finding_odd_num(list_of_number)\n",
    "print(odd_elements)"
   ]
  },
  {
   "cell_type": "code",
   "execution_count": 2,
   "id": "72ace7a6-3db0-4485-965c-e6cccc82ed0f",
   "metadata": {},
   "outputs": [
    {
     "name": "stdout",
     "output_type": "stream",
     "text": [
      "21\n"
     ]
    }
   ],
   "source": [
    "#Q2\n",
    "'''\n",
    "We use *args and **kwargs as an argument\n",
    "when we are unsure about the number of arguments\n",
    "to pass in the functions\n",
    "'''\n",
    "# using *args argument in function\n",
    "\n",
    "def add_of_element(*args):\n",
    "    sum_value = 0\n",
    "    for i in args:\n",
    "        sum_value += i\n",
    "    return sum_value\n",
    "\n",
    "add = add_of_element(1,2,3,4,5,6)\n",
    "print(add)\n",
    "        "
   ]
  },
  {
   "cell_type": "code",
   "execution_count": 9,
   "id": "fff8b5c1-0e0c-45fb-b75b-906f084873cd",
   "metadata": {},
   "outputs": [
    {
     "name": "stdout",
     "output_type": "stream",
     "text": [
      "....Price list of vegtables....\n",
      "Potato is Rs.20 kg\n",
      "Tomato is Rs.15 kg\n",
      "Onion is Rs.25 kg\n"
     ]
    }
   ],
   "source": [
    "#Q2 part two\n",
    "# uisng **kwargs argument in function\n",
    "\n",
    "def my_fuction(**kwargs):\n",
    "    print(\"....Price list of vegtables....\")\n",
    "    for k,v in kwargs.items():\n",
    "        print(f\"{k} is Rs.{v} kg\")\n",
    "    \n",
    "my_fuction(Potato = 20, Tomato = 15,Onion =25)     "
   ]
  },
  {
   "cell_type": "code",
   "execution_count": 3,
   "id": "621c5876-3eba-4e04-a98a-74f4490da6b9",
   "metadata": {},
   "outputs": [
    {
     "name": "stdout",
     "output_type": "stream",
     "text": [
      "2\n",
      "4\n",
      "6\n",
      "8\n",
      "10\n"
     ]
    }
   ],
   "source": [
    "#Q3.\n",
    "'''\n",
    "Iterator is object that is itereted one by one elements\n",
    "which consist of the methods __iter__() and __next__().\n",
    "'''\n",
    "list_num = [2, 4, 6, 8, 10, 12, 14,16, 18, 20]\n",
    "\n",
    "# using iter method to convert list_num into iteretor object\n",
    "value = iter(list_num)\n",
    "# to print five number of iteretor of object\n",
    "print(next(value))\n",
    "print(next(value))\n",
    "print(next(value))\n",
    "print(next(value))\n",
    "print(next(value))"
   ]
  },
  {
   "cell_type": "code",
   "execution_count": 4,
   "id": "9b784743-b2ac-4bc7-a7a5-56acc15ec22a",
   "metadata": {},
   "outputs": [
    {
     "name": "stdout",
     "output_type": "stream",
     "text": [
      "[1, 2, 3, 4, 5, 6, 7, 8, 9, 10]\n"
     ]
    }
   ],
   "source": [
    "#Q4. Generator function\n",
    "'''\n",
    "a generator is a function that returns an iterator that produces a sequence of values\n",
    "when iterated over. Generators are useful when we want to produce a large sequence of values,\n",
    "but we don't want to store all of them in memory at once. using yield keyword in generator function\n",
    "to return one element at the time.\n",
    "'''\n",
    "\n",
    "def count_number(num):\n",
    "    count = 1\n",
    "    while count <=num:\n",
    "        yield count\n",
    "        count +=1\n",
    "count = count_number(10)\n",
    "\n",
    "print(list(count))"
   ]
  },
  {
   "cell_type": "code",
   "execution_count": 9,
   "id": "00c06f41-c28b-459e-adf9-e3281c8a7ec7",
   "metadata": {},
   "outputs": [
    {
     "name": "stdout",
     "output_type": "stream",
     "text": [
      "2\n",
      "3\n",
      "5\n",
      "7\n",
      "11\n",
      "13\n",
      "17\n",
      "19\n",
      "23\n",
      "29\n",
      "31\n",
      "37\n",
      "41\n",
      "43\n",
      "47\n",
      "53\n",
      "59\n",
      "61\n",
      "67\n",
      "71\n"
     ]
    }
   ],
   "source": [
    "#Q5. create prime number  is less than 1000 using generator and print 20 prime number\n",
    "\n",
    "def is_prime(num):\n",
    "    for i in range(2,num):\n",
    "        if num%i ==0:\n",
    "            return False\n",
    "    return True\n",
    "\n",
    "def prime_number():\n",
    "    count = 1000\n",
    "    while True:\n",
    "        for i in range(2,count):\n",
    "            if is_prime(i):\n",
    "                yield i\n",
    "                    \n",
    "num = prime_number()\n",
    "for i in range(20):\n",
    "    print(next(num))"
   ]
  },
  {
   "cell_type": "code",
   "execution_count": 10,
   "id": "4984320c-b47f-4b23-b8ca-a1827be9946f",
   "metadata": {},
   "outputs": [
    {
     "name": "stdout",
     "output_type": "stream",
     "text": [
      "0\n",
      "1\n",
      "1\n",
      "2\n",
      "3\n",
      "5\n",
      "8\n",
      "13\n",
      "21\n",
      "34\n"
     ]
    }
   ],
   "source": [
    "#Q6 Fibonacci numbers\n",
    "\n",
    "def fibona_function():\n",
    "    num1,num2 = 0,1\n",
    "    while True:\n",
    "        yield num1\n",
    "        num1,num2 = num2,num1+num2\n",
    "fibonacc_serise = fibona_function()\n",
    "for i in range(10):\n",
    "    print(next(fibonacc_serise))"
   ]
  },
  {
   "cell_type": "code",
   "execution_count": 11,
   "id": "984e144b-eb5b-44a0-bcc6-ebf600304bcb",
   "metadata": {},
   "outputs": [
    {
     "name": "stdout",
     "output_type": "stream",
     "text": [
      "['p', 'w', 's', 'k', 'i', 'l', 'l', 's']\n"
     ]
    }
   ],
   "source": [
    "#Q7. List Comprehension\n",
    "string = \"pwskills\"\n",
    "\n",
    "print([i for i in string])"
   ]
  },
  {
   "cell_type": "code",
   "execution_count": 13,
   "id": "34fbf192-d99f-464d-ab5f-54b43d199249",
   "metadata": {},
   "outputs": [
    {
     "name": "stdin",
     "output_type": "stream",
     "text": [
      "Enter number to check is palindrome or not 121\n"
     ]
    },
    {
     "name": "stdout",
     "output_type": "stream",
     "text": [
      "The number is palindrome!\n"
     ]
    }
   ],
   "source": [
    "#Q8. Palindrome\n",
    "number = int(input(\"Enter number to check is palindrome or not\"))\n",
    "\n",
    "def to_check_palindrome_not(num):\n",
    "    temp = num\n",
    "    reverse = 0\n",
    "    while num > 0:\n",
    "        remainder =num%10\n",
    "        reverse=reverse*10+remainder\n",
    "        num=num//10\n",
    "    if(temp==reverse):\n",
    "        print(\"The number is palindrome!\")\n",
    "    else:\n",
    "        print(\"Not a palindrome!\")\n",
    "to_check_palindrome_not(number)"
   ]
  },
  {
   "cell_type": "code",
   "execution_count": 14,
   "id": "f62b43ac-4f0c-4fe4-88b0-c590fcfae6ce",
   "metadata": {},
   "outputs": [
    {
     "name": "stdout",
     "output_type": "stream",
     "text": [
      "[1, 3, 5, 7, 9, 11, 13, 15, 17, 19, 21, 23, 25, 27, 29, 31, 33, 35, 37, 39, 41, 43, 45, 47, 49, 51, 53, 55, 57, 59, 61, 63, 65, 67, 69, 71, 73, 75, 77, 79, 81, 83, 85, 87, 89, 91, 93, 95, 97, 99]\n"
     ]
    }
   ],
   "source": [
    "#Q9.odd numbers from 1 to 100 using list comprehension\n",
    "\n",
    "num = [i for i in range(1,101)]\n",
    "\n",
    "odd_num = [i for i in num if i%2 != 0]\n",
    "print(odd_num)"
   ]
  },
  {
   "cell_type": "code",
   "execution_count": null,
   "id": "c3a4f206-ebc5-4d8a-b72e-284af1a4ac6c",
   "metadata": {},
   "outputs": [],
   "source": []
  }
 ],
 "metadata": {
  "kernelspec": {
   "display_name": "Python 3 (ipykernel)",
   "language": "python",
   "name": "python3"
  },
  "language_info": {
   "codemirror_mode": {
    "name": "ipython",
    "version": 3
   },
   "file_extension": ".py",
   "mimetype": "text/x-python",
   "name": "python",
   "nbconvert_exporter": "python",
   "pygments_lexer": "ipython3",
   "version": "3.10.8"
  }
 },
 "nbformat": 4,
 "nbformat_minor": 5
}
