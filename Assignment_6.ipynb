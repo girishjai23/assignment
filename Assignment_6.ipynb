{
 "cells": [
  {
   "cell_type": "code",
   "execution_count": null,
   "id": "93492973",
   "metadata": {},
   "outputs": [],
   "source": [
    "# Q1. Explain the following with an example\n",
    "\n",
    "\"\"\"\n",
    "1. Artifical Intelligence:-AI is smart application that can perform\n",
    "   its own task without any human intervention.\n",
    "   example:- Chatbots,Face Detection and recognition\n",
    "\n",
    "2. Machine learning:-MI is subset of AI and Machine learning provide statictool to analyze,visualize,\n",
    "   prediction or forecast of models.\n",
    "   example:- Product recommendations,Mobile voice to text and predictive text\n",
    "   \n",
    "3. Deep learning:- DL Is subset of Machine learning, To use Dl to mimic of human brain.\n",
    "   example:- Deep learning is a key technology behind driverless cars\n",
    "\"\"\""
   ]
  },
  {
   "cell_type": "code",
   "execution_count": null,
   "id": "bc1908bd",
   "metadata": {},
   "outputs": [],
   "source": [
    "# Q2. What is supervised learning? list some example of supervised learning.\n",
    "\n",
    "\"\"\"\n",
    "supervised learning is a subcategory of machine learning and artificial intelligence.\n",
    "Supervised learning, as the name indicates, has the presence of a supervisor as a teacher\n",
    "supervised learning is when we teach or train the machine using data that is well-labelled.\n",
    "Which means some data is already tagged with the correct answer. After that, the machine is provided\n",
    "with a new set of examples(data) so that the supervised learning algorithm analyses the training \n",
    "data(set of training examples) and produces a correct outcome from labeled data\n",
    "\n",
    "example:- Spam detection\n",
    "\"\"\""
   ]
  },
  {
   "cell_type": "code",
   "execution_count": null,
   "id": "d1e22ff6",
   "metadata": {},
   "outputs": [],
   "source": [
    "# Q3. What is unsupervised learning? list some example of unsupervised learning.\n",
    "\"\"\"\n",
    "Unsupervised learning is a type of machine learning where the algorithm is trained on unlabeled data,\n",
    "which means that there are no explicit target labels or outcomes provided for the input data. Instead, \n",
    "the algorithm tries to find patterns, structures, or relationships within the data on its own. \n",
    "Unsupervised learning is often used for tasks such as data clustering, dimensionality reduction, \n",
    "and density estimation.    \n",
    "\n",
    "example:- Clustering,Dimensionality Reduction,Graph-based Clustering\n",
    "\"\"\""
   ]
  },
  {
   "cell_type": "code",
   "execution_count": null,
   "id": "418829a6",
   "metadata": {},
   "outputs": [],
   "source": [
    "# Q4. What is the difference between AI,ML,DP and DS.\n",
    "'''\n",
    "AI simulates human intelligence to perform tasks and make decisions.\n",
    "ML is a subset of AI that uses algorithms to learn patterns from data.\n",
    "DL is a subset of ML that employs artificial neural networks for complex tasks\n",
    "DS is used all thing to make modal or system to perform tasks\n",
    "'''"
   ]
  },
  {
   "cell_type": "code",
   "execution_count": null,
   "metadata": {},
   "outputs": [],
   "source": [
    "# Q5 What are the main difference between supervised, unsupervised and semi-supervised learning?\n",
    "'''\n",
    "Supervised Learning :- In supervised learning, the algorithm is trained on a labeled dataset, \n",
    "where each input is associated with a corresponding output or target. \n",
    "\n",
    "Unsupervised Learning :- Unsupervised learning involves working with unlabeled data, where the algorithm tries to find patterns, \n",
    "relationships, or structures within the data without explicit guidance.\n",
    "\n",
    "Semi-Supervised Learning :- Semi-supervised learning is a hybrid approach that combines elements of both supervised and unsupervised learning.\n",
    "It leverages a dataset that contains both labeled and unlabeled data.\n",
    "\n",
    "'''"
   ]
  },
  {
   "cell_type": "code",
   "execution_count": null,
   "metadata": {},
   "outputs": [],
   "source": [
    "# Q6 What is train ,test and validation split?.Explain the importance of each term.\n",
    "'''\n",
    "Training Set:- The training set is used to train the machine learning model.\n",
    "The model learns the underlying patterns and relationships in the data by adjusting \n",
    "its parameters based on the input-output pairs in the training set.\n",
    "\n",
    "Validation Set:- The validation set is used to tune the hyperparameters of the model and \n",
    "to evaluate its performance during training.Hyperparameters are settings that are not learned \n",
    "from the data but affect the learning process.\n",
    "\n",
    "Test Set:- The test set is reserved for the final evaluation of the model's performance after\n",
    "the training and validation stages are complete.It is used to assess how well\n",
    "the model generalizes to completely unseen data.\n",
    "\n",
    "Training Set:\n",
    "Trains the model to learn patterns and relationships in the data.\n",
    "Foundation for the model's understanding and decision-making.\n",
    "\n",
    "Validation Set:\n",
    "Helps fine-tune hyperparameters to improve model performance.\n",
    "Acts as a safeguard against overfitting by providing an independent evaluation during training.\n",
    "\n",
    "Test Set:\n",
    "Provides an unbiased evaluation of the model's performance on new, unseen data.\n",
    "Assures that the model generalizes well and is not merely memorizing the training examples.\n",
    "\n",
    "'''"
   ]
  },
  {
   "cell_type": "code",
   "execution_count": null,
   "metadata": {},
   "outputs": [],
   "source": [
    "# Q7 How can unsupervised learning be used in anomaly delection?\n",
    "'''\n",
    "Unsupervised learning is particularly well-suited for anomaly detection because\n",
    "it doesn't rely on labeled data that explicitly identifies anomalies. Instead,\n",
    "unsupervised algorithms aim to understand the inherent structure and patterns \n",
    "within the data, making them effective for detecting outliers or anomalies\n",
    "\n",
    "1. Clustering\n",
    "2. Density-Based Methods\n",
    "3. Principal Component Analysis (PCA)\n",
    "\n",
    "'''\n"
   ]
  },
  {
   "cell_type": "code",
   "execution_count": null,
   "metadata": {},
   "outputs": [],
   "source": [
    "# Q8 List down some commonly used supervised learning algorithms and unsupervised learning algorithms.\n",
    "'''\n",
    "Supervised Learing:-\n",
    "\n",
    "1.Linear Regression\n",
    "2.Logistic Regression\n",
    "3.Decision Trees\n",
    "4.K-Nearest Neighbors\n",
    "\n",
    "Unsupervised Learning:-\n",
    "\n",
    "1.K-Means Clustering\n",
    "2.Principal Component Analysis (PCA)\n",
    "3.Independent Component Analysis (ICA)\n",
    "4.Autoencoders\n",
    "5.Isolation Forests\n",
    "'''"
   ]
  }
 ],
 "metadata": {
  "kernelspec": {
   "display_name": "Python 3 (ipykernel)",
   "language": "python",
   "name": "python3"
  },
  "language_info": {
   "codemirror_mode": {
    "name": "ipython",
    "version": 3
   },
   "file_extension": ".py",
   "mimetype": "text/x-python",
   "name": "python",
   "nbconvert_exporter": "python",
   "pygments_lexer": "ipython3",
   "version": "3.7.16"
  }
 },
 "nbformat": 4,
 "nbformat_minor": 5
}
