{
 "cells": [
  {
   "cell_type": "code",
   "execution_count": 2,
   "id": "f8663424-2a74-46de-8974-06177714caeb",
   "metadata": {},
   "outputs": [],
   "source": [
    "# Q1 create Pandas Series\n",
    "\n",
    "# given data\n",
    "data = [4, 8, 15, 16, 23,42]\n",
    "\n",
    "import pandas as pd\n",
    "\n",
    "# convert list into pandas series using pandas.series function\n",
    "\n",
    "data_series = pd.Series(data)"
   ]
  },
  {
   "cell_type": "code",
   "execution_count": 3,
   "id": "9fc344ae-4479-4bc5-ba2b-3309e2020913",
   "metadata": {},
   "outputs": [
    {
     "data": {
      "text/plain": [
       "0     4\n",
       "1     8\n",
       "2    15\n",
       "3    16\n",
       "4    23\n",
       "5    42\n",
       "dtype: int64"
      ]
     },
     "execution_count": 3,
     "metadata": {},
     "output_type": "execute_result"
    }
   ],
   "source": [
    "data_series"
   ]
  },
  {
   "cell_type": "code",
   "execution_count": 4,
   "id": "d47994fd-da8b-463d-be73-a39f9628a3fa",
   "metadata": {},
   "outputs": [
    {
     "data": {
      "text/plain": [
       "pandas.core.series.Series"
      ]
     },
     "execution_count": 4,
     "metadata": {},
     "output_type": "execute_result"
    }
   ],
   "source": [
    "type(data_series)"
   ]
  },
  {
   "cell_type": "code",
   "execution_count": 5,
   "id": "cae2fea7-03d4-4b01-b834-5e06be63b0c8",
   "metadata": {},
   "outputs": [],
   "source": [
    "# Q2 create pandas series\n",
    "\n",
    "# creating list using list comprehension\n",
    "data = [i for i in range(1,11)]\n",
    "\n",
    "import pandas as pd\n",
    "\n",
    "series_data = pd.Series(data)"
   ]
  },
  {
   "cell_type": "code",
   "execution_count": 6,
   "id": "6a8893c4-dfac-4309-850a-bf46223a9525",
   "metadata": {},
   "outputs": [
    {
     "data": {
      "text/plain": [
       "0     1\n",
       "1     2\n",
       "2     3\n",
       "3     4\n",
       "4     5\n",
       "5     6\n",
       "6     7\n",
       "7     8\n",
       "8     9\n",
       "9    10\n",
       "dtype: int64"
      ]
     },
     "execution_count": 6,
     "metadata": {},
     "output_type": "execute_result"
    }
   ],
   "source": [
    "series_data"
   ]
  },
  {
   "cell_type": "code",
   "execution_count": 7,
   "id": "9dbf0a9a-cea3-49f1-ba99-b2dd04a9fe9f",
   "metadata": {},
   "outputs": [
    {
     "data": {
      "text/plain": [
       "pandas.core.series.Series"
      ]
     },
     "execution_count": 7,
     "metadata": {},
     "output_type": "execute_result"
    }
   ],
   "source": [
    "type(series_data)"
   ]
  },
  {
   "cell_type": "code",
   "execution_count": 11,
   "id": "409e4be6-d701-40ca-9c8e-bddc00c0ab92",
   "metadata": {},
   "outputs": [
    {
     "name": "stdout",
     "output_type": "stream",
     "text": [
      "     Name  Age  Gender\n",
      "0   Alice   25  Female\n",
      "1     Bob   30    Male\n",
      "2  Claire   27  Female\n"
     ]
    }
   ],
   "source": [
    "# Q3 create dataframe using give data\n",
    "data = {\n",
    "    \"Name\":['Alice','Bob','Claire'],\n",
    "    \"Age\":[25,30,27],\n",
    "    \"Gender\":['Female','Male','Female']\n",
    "}\n",
    "\n",
    "import pandas as pd \n",
    "\n",
    "# Convert data into dataframe using pandas.dataframe function\n",
    "\n",
    "df = pd.DataFrame(data)\n",
    "print(df)"
   ]
  },
  {
   "cell_type": "code",
   "execution_count": 13,
   "id": "aa164620-3683-413d-9ef9-6f0e6080cbdc",
   "metadata": {},
   "outputs": [],
   "source": [
    "# Q4. What is ‘DataFrame’ in pandas?\n",
    "'''\n",
    "dataframe is tabular form i.e a table with rows and columns\n",
    "'''\n",
    "\n",
    "# how is it different from pandas.series?\n",
    "\n",
    "'''\n",
    "dataframe is table form but pandas.series is list form or one dimensional form.\n",
    "'''\n",
    "\n",
    "# Dataframe exmple:\n",
    "import pandas as pd\n",
    "\n",
    "# creating a DataFrame\n",
    "dict = {'Name' : ['Martha', 'Tim', 'Rob', 'Georgia'],\n",
    "        'Maths' : [87, 91, 97, 95],\n",
    "        'Science' : [83, 99, 84, 76]}\n",
    "\n",
    "df  = pd.DataFrame(dict)\n"
   ]
  },
  {
   "cell_type": "code",
   "execution_count": 15,
   "id": "144a10c0-4169-47b0-910c-6b5ec334d349",
   "metadata": {},
   "outputs": [
    {
     "name": "stdout",
     "output_type": "stream",
     "text": [
      "0     Martha\n",
      "1        Tim\n",
      "2        Rob\n",
      "3    Georgia\n",
      "Name: Name, dtype: object\n",
      "<class 'pandas.core.series.Series'>\n",
      "      Name\n",
      "0   Martha\n",
      "1      Tim\n",
      "2      Rob\n",
      "3  Georgia\n",
      "<class 'pandas.core.frame.DataFrame'>\n"
     ]
    }
   ],
   "source": [
    "# we use same df to fatch two different form of data when we use single square bracket\n",
    "# to get pandas series data in form of list with index value like\n",
    "\n",
    "series_data = df['Name']\n",
    "print(series_data)\n",
    "print(type(series_data))\n",
    "\n",
    "# when we use double square bracket to get pandas dataframe in form of table form with key:value\n",
    "\n",
    "dataframe_data = df[['Name']]\n",
    "print(dataframe_data)\n",
    "print(type(dataframe_data))"
   ]
  },
  {
   "cell_type": "code",
   "execution_count": 3,
   "id": "94f3714d-970f-431a-9ee7-babbe66b9e1f",
   "metadata": {},
   "outputs": [
    {
     "name": "stdout",
     "output_type": "stream",
     "text": [
      "      Name  Maths  Science\n",
      "0   Martha     87       83\n",
      "1      Tim     91       99\n",
      "2      Rob     97       84\n",
      "3  Georgia     95       76\n",
      "\n",
      "      Name  Maths  Science\n",
      "0   Martha     87       83\n",
      "1      Tim     91       99\n",
      "2      Rob     97       84\n",
      "3  Georgia     95       76\n",
      "\n",
      "Name       object\n",
      "Maths       int64\n",
      "Science     int64\n",
      "dtype: object\n",
      "\n",
      "Index(['Name', 'Maths', 'Science'], dtype='object')\n",
      "\n"
     ]
    }
   ],
   "source": [
    "# Q5. there are some function is used to to manipulate data in a Pandas DataFrame\n",
    "\n",
    "# Dataframe exmple:\n",
    "import pandas as pd\n",
    "\n",
    "# creating a DataFrame\n",
    "dict = {'Name' : ['Martha', 'Tim', 'Rob', 'Georgia'],\n",
    "        'Maths' : [87, 91, 97, 95],\n",
    "        'Science' : [83, 99, 84, 76]}\n",
    "\n",
    "df  = pd.DataFrame(dict)\n",
    "\n",
    "# use Dataframe.head() to give  first five entry\n",
    "print(df.head())\n",
    "print()\n",
    "\n",
    "# use dataframe.tail() to give last five entry\n",
    "print(df.tail())\n",
    "print()\n",
    "\n",
    "# use dataframe.dtypes to give each columns datatype\n",
    "print(df.dtypes)\n",
    "print()\n",
    "\n",
    "# use dataframe.columns to give list of column name\n",
    "print(df.columns)\n",
    "print()\n",
    "\n",
    "# use pd.read_csv() to read csv file or other file for example html,json,xlxs etc.\n",
    "# df = pd.read_csv(file path)\n",
    "\n",
    "\n"
   ]
  },
  {
   "cell_type": "code",
   "execution_count": null,
   "id": "edf909c4-7f8b-46dc-93a3-7d25361d4194",
   "metadata": {},
   "outputs": [],
   "source": [
    "# Q6. Which of the following is mutable in nature Series, DataFrame, Panel?\n",
    "\n",
    "'''\n",
    "Series:- 1D labeled homogeneous array, sizeimmutable.\n",
    "\n",
    "Data Frames:- General 2D labeled,size-mutable tabular structure with potentially heterogeneously typed columns.\n",
    "\n",
    "Panel:- General 3D labeled, size-mutable array.\n",
    "'''"
   ]
  },
  {
   "cell_type": "code",
   "execution_count": 2,
   "id": "eda07290-9b94-45d7-a223-d8251f4f70e5",
   "metadata": {},
   "outputs": [
    {
     "name": "stdout",
     "output_type": "stream",
     "text": [
      "               courses  fees  discount\n",
      "0         Data Science  2200       100\n",
      "1     Python Developer  2500       230\n",
      "2  Fullstack Developer  2300       100\n"
     ]
    }
   ],
   "source": [
    "# Q7 Create a DataFrame using multiple Series. Explain with an example.\n",
    "# Create Series by assigning names\n",
    "import pandas as pd\n",
    "courses = pd.Series([\"Data Science\",\"Python Developer\",\"Fullstack Developer\"], name='courses')\n",
    "fees = pd.Series([2200,2500,2300], name='fees')\n",
    "discount  = pd.Series([100,230,100],name='discount')\n",
    "\n",
    "df = pd.concat([courses,fees,discount],axis=1)\n",
    "print(df)\n"
   ]
  },
  {
   "cell_type": "code",
   "execution_count": null,
   "id": "2bfac232-1f41-428c-b163-b6c818fec6cf",
   "metadata": {},
   "outputs": [],
   "source": []
  }
 ],
 "metadata": {
  "kernelspec": {
   "display_name": "Python 3 (ipykernel)",
   "language": "python",
   "name": "python3"
  },
  "language_info": {
   "codemirror_mode": {
    "name": "ipython",
    "version": 3
   },
   "file_extension": ".py",
   "mimetype": "text/x-python",
   "name": "python",
   "nbconvert_exporter": "python",
   "pygments_lexer": "ipython3",
   "version": "3.10.8"
  }
 },
 "nbformat": 4,
 "nbformat_minor": 5
}
