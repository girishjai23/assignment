{
 "cells": [
  {
   "cell_type": "code",
   "execution_count": 4,
   "id": "630fed81-bffb-49d1-909f-f89236bd678c",
   "metadata": {},
   "outputs": [],
   "source": [
    "d={}"
   ]
  },
  {
   "cell_type": "code",
   "execution_count": 5,
   "id": "51a84824-ad4d-41de-b0dc-3b7e98d4dd8c",
   "metadata": {},
   "outputs": [
    {
     "data": {
      "text/plain": [
       "dict"
      ]
     },
     "execution_count": 5,
     "metadata": {},
     "output_type": "execute_result"
    }
   ],
   "source": [
    "type(d)"
   ]
  },
  {
   "cell_type": "code",
   "execution_count": 6,
   "id": "ff20d63c-ded3-4852-81f4-6799e18f37c7",
   "metadata": {},
   "outputs": [],
   "source": [
    "d1 = {\"key\":\"girish\"}"
   ]
  },
  {
   "cell_type": "code",
   "execution_count": 7,
   "id": "a87de62a-aa78-4550-b2ca-07f2e53cee29",
   "metadata": {},
   "outputs": [
    {
     "data": {
      "text/plain": [
       "{'key': 'girish'}"
      ]
     },
     "execution_count": 7,
     "metadata": {},
     "output_type": "execute_result"
    }
   ],
   "source": [
    "d1"
   ]
  },
  {
   "cell_type": "code",
   "execution_count": 8,
   "id": "3bf222ea-ed44-4bac-b2d4-af4922b490b9",
   "metadata": {},
   "outputs": [],
   "source": [
    "d2 = {\"name\":\"Girish\",\"email\":\"girish.jaiswal@caratred.com\",\"number\":90909099}"
   ]
  },
  {
   "cell_type": "code",
   "execution_count": 9,
   "id": "ad45e402-a005-42a1-aa70-8df6d53f601a",
   "metadata": {},
   "outputs": [
    {
     "data": {
      "text/plain": [
       "{'name': 'Girish', 'email': 'girish.jaiswal@caratred.com', 'number': 90909099}"
      ]
     },
     "execution_count": 9,
     "metadata": {},
     "output_type": "execute_result"
    }
   ],
   "source": [
    "d2"
   ]
  },
  {
   "cell_type": "code",
   "execution_count": 10,
   "id": "ae6e70e9-a8a7-4bf6-bc5e-babfbb294f60",
   "metadata": {},
   "outputs": [],
   "source": [
    "d3= {234:\"girish\",\"ji\":\"jaiswal\",True:789}"
   ]
  },
  {
   "cell_type": "code",
   "execution_count": 11,
   "id": "bab84977-eb5a-4a3f-8af9-d0b78c37b486",
   "metadata": {},
   "outputs": [
    {
     "data": {
      "text/plain": [
       "789"
      ]
     },
     "execution_count": 11,
     "metadata": {},
     "output_type": "execute_result"
    }
   ],
   "source": [
    "d3[1]"
   ]
  },
  {
   "cell_type": "code",
   "execution_count": 12,
   "id": "6eee4951-9fbc-44b2-a0f3-48ebf9eb429d",
   "metadata": {},
   "outputs": [],
   "source": [
    "d4 = {\"name\":\"girish\",\"mail_id\":\"gj@gmail.com\",\"name\":\"girish jaiswal\"}"
   ]
  },
  {
   "cell_type": "code",
   "execution_count": 13,
   "id": "38df9db0-54d7-4421-95d9-cadc2c8506d6",
   "metadata": {},
   "outputs": [
    {
     "data": {
      "text/plain": [
       "'girish jaiswal'"
      ]
     },
     "execution_count": 13,
     "metadata": {},
     "output_type": "execute_result"
    }
   ],
   "source": [
    "d4[\"name\"]"
   ]
  },
  {
   "cell_type": "code",
   "execution_count": 14,
   "id": "d88d5e81-d1b6-4935-af2a-720796560a76",
   "metadata": {},
   "outputs": [
    {
     "data": {
      "text/plain": [
       "{'name': 'girish jaiswal', 'mail_id': 'gj@gmail.com'}"
      ]
     },
     "execution_count": 14,
     "metadata": {},
     "output_type": "execute_result"
    }
   ],
   "source": [
    "d4"
   ]
  },
  {
   "cell_type": "code",
   "execution_count": 15,
   "id": "52b23900-c500-4ab8-bc17-1b058dfd0101",
   "metadata": {},
   "outputs": [],
   "source": [
    "d5= {\"company\":\"pwaskills\",\"course\":[\"web dev\",\"data scince\"]}"
   ]
  },
  {
   "cell_type": "code",
   "execution_count": 16,
   "id": "dd2a5e72-b09b-465e-9fb3-7142232c9281",
   "metadata": {},
   "outputs": [
    {
     "data": {
      "text/plain": [
       "{'company': 'pwaskills', 'course': ['web dev', 'data scince']}"
      ]
     },
     "execution_count": 16,
     "metadata": {},
     "output_type": "execute_result"
    }
   ],
   "source": [
    "d5"
   ]
  },
  {
   "cell_type": "code",
   "execution_count": 17,
   "id": "d784cc0a-77f6-431b-98ed-a40015c8beb1",
   "metadata": {},
   "outputs": [
    {
     "data": {
      "text/plain": [
       "['web dev', 'data scince']"
      ]
     },
     "execution_count": 17,
     "metadata": {},
     "output_type": "execute_result"
    }
   ],
   "source": [
    "d5[\"course\"]"
   ]
  },
  {
   "cell_type": "code",
   "execution_count": 18,
   "id": "da67ebb0-e66b-4636-84f1-ba384ee69453",
   "metadata": {},
   "outputs": [
    {
     "data": {
      "text/plain": [
       "'data scince'"
      ]
     },
     "execution_count": 18,
     "metadata": {},
     "output_type": "execute_result"
    }
   ],
   "source": [
    "d5['course'][1]"
   ]
  },
  {
   "cell_type": "code",
   "execution_count": 20,
   "id": "249d0d93-fb7c-43a4-ad7f-f91522d04fa7",
   "metadata": {},
   "outputs": [],
   "source": [
    "d6 = {\"number\":[2,3,4,24,14],'assigment':(1,2,3,4,5,6),\"launch\":{12,45,78}}"
   ]
  },
  {
   "cell_type": "code",
   "execution_count": 21,
   "id": "198938d1-45fe-4425-a601-2477bfdf60a1",
   "metadata": {},
   "outputs": [
    {
     "data": {
      "text/plain": [
       "{'number': [2, 3, 4, 24, 14],\n",
       " 'assigment': (1, 2, 3, 4, 5, 6),\n",
       " 'launch': {12, 45, 78}}"
      ]
     },
     "execution_count": 21,
     "metadata": {},
     "output_type": "execute_result"
    }
   ],
   "source": [
    "d6"
   ]
  },
  {
   "cell_type": "code",
   "execution_count": 22,
   "id": "1d86df05-2c64-45a0-8112-f1468ee4b763",
   "metadata": {},
   "outputs": [
    {
     "data": {
      "text/plain": [
       "{12, 45, 78}"
      ]
     },
     "execution_count": 22,
     "metadata": {},
     "output_type": "execute_result"
    }
   ],
   "source": [
    "d6[\"launch\"]"
   ]
  },
  {
   "cell_type": "code",
   "execution_count": 23,
   "id": "1532ebf4-41a7-4b80-9951-e19f223f221e",
   "metadata": {},
   "outputs": [],
   "source": [
    "d6[\"location\"] = [\"indore\",\"hydrabed\"]"
   ]
  },
  {
   "cell_type": "code",
   "execution_count": 24,
   "id": "ab122789-eb7b-4677-87d7-31f58c6a4967",
   "metadata": {},
   "outputs": [
    {
     "data": {
      "text/plain": [
       "{'number': [2, 3, 4, 24, 14],\n",
       " 'assigment': (1, 2, 3, 4, 5, 6),\n",
       " 'launch': {12, 45, 78},\n",
       " 'location': ['indore', 'hydrabed']}"
      ]
     },
     "execution_count": 24,
     "metadata": {},
     "output_type": "execute_result"
    }
   ],
   "source": [
    "d6"
   ]
  },
  {
   "cell_type": "code",
   "execution_count": 25,
   "id": "46c0b6b5-32ad-47b5-8ec2-09132c2bd13c",
   "metadata": {},
   "outputs": [],
   "source": [
    "del d6[\"number\"]"
   ]
  },
  {
   "cell_type": "code",
   "execution_count": 26,
   "id": "3792ef6e-8c24-447e-928f-d109b3b733c3",
   "metadata": {},
   "outputs": [
    {
     "data": {
      "text/plain": [
       "{'assigment': (1, 2, 3, 4, 5, 6),\n",
       " 'launch': {12, 45, 78},\n",
       " 'location': ['indore', 'hydrabed']}"
      ]
     },
     "execution_count": 26,
     "metadata": {},
     "output_type": "execute_result"
    }
   ],
   "source": [
    "d6"
   ]
  },
  {
   "cell_type": "code",
   "execution_count": 28,
   "id": "7e8ed9ca-0dd2-4160-b172-67682ad40962",
   "metadata": {},
   "outputs": [
    {
     "data": {
      "text/plain": [
       "['assigment', 'launch', 'location']"
      ]
     },
     "execution_count": 28,
     "metadata": {},
     "output_type": "execute_result"
    }
   ],
   "source": [
    "list(d6.keys())"
   ]
  },
  {
   "cell_type": "code",
   "execution_count": 30,
   "id": "3d878603-a5f5-4fe8-b7cf-5ba0043b9a7b",
   "metadata": {},
   "outputs": [
    {
     "data": {
      "text/plain": [
       "[(1, 2, 3, 4, 5, 6), {12, 45, 78}, ['indore', 'hydrabed']]"
      ]
     },
     "execution_count": 30,
     "metadata": {},
     "output_type": "execute_result"
    }
   ],
   "source": [
    "list(d6.values())"
   ]
  },
  {
   "cell_type": "code",
   "execution_count": 31,
   "id": "cc79b5fa-0ae6-4503-b4e9-465006f39ca7",
   "metadata": {},
   "outputs": [
    {
     "data": {
      "text/plain": [
       "[('assigment', (1, 2, 3, 4, 5, 6)),\n",
       " ('launch', {12, 45, 78}),\n",
       " ('location', ['indore', 'hydrabed'])]"
      ]
     },
     "execution_count": 31,
     "metadata": {},
     "output_type": "execute_result"
    }
   ],
   "source": [
    "list(d6.items())"
   ]
  },
  {
   "cell_type": "code",
   "execution_count": 33,
   "id": "77797750-59f3-4d92-87c9-9581b06e6b6b",
   "metadata": {},
   "outputs": [],
   "source": [
    "d6.update({\"name\":\"girish\"})"
   ]
  },
  {
   "cell_type": "code",
   "execution_count": 34,
   "id": "7089fc8a-af2a-4f55-88f2-5ab997d7e9a7",
   "metadata": {},
   "outputs": [
    {
     "data": {
      "text/plain": [
       "{'assigment': (1, 2, 3, 4, 5, 6),\n",
       " 'launch': {12, 45, 78},\n",
       " 'location': ['indore', 'hydrabed'],\n",
       " 'name': 'girish'}"
      ]
     },
     "execution_count": 34,
     "metadata": {},
     "output_type": "execute_result"
    }
   ],
   "source": [
    "d6"
   ]
  },
  {
   "cell_type": "code",
   "execution_count": 35,
   "id": "6da9c634-3225-4722-8281-c07ad38d335d",
   "metadata": {},
   "outputs": [
    {
     "data": {
      "text/plain": [
       "'girish'"
      ]
     },
     "execution_count": 35,
     "metadata": {},
     "output_type": "execute_result"
    }
   ],
   "source": [
    "d6.pop(\"name\")"
   ]
  },
  {
   "cell_type": "code",
   "execution_count": 36,
   "id": "7f98b880-e686-43ac-9d17-6405c03a26f7",
   "metadata": {},
   "outputs": [
    {
     "data": {
      "text/plain": [
       "{'company': 'pwaskills', 'course': ['web dev', 'data scince']}"
      ]
     },
     "execution_count": 36,
     "metadata": {},
     "output_type": "execute_result"
    }
   ],
   "source": [
    "d5"
   ]
  },
  {
   "cell_type": "code",
   "execution_count": 37,
   "id": "e25bdd00-0cb3-485f-bcd8-52b9aae21bee",
   "metadata": {},
   "outputs": [
    {
     "data": {
      "text/plain": [
       "{'assigment': (1, 2, 3, 4, 5, 6),\n",
       " 'launch': {12, 45, 78},\n",
       " 'location': ['indore', 'hydrabed']}"
      ]
     },
     "execution_count": 37,
     "metadata": {},
     "output_type": "execute_result"
    }
   ],
   "source": [
    "d6"
   ]
  },
  {
   "cell_type": "code",
   "execution_count": 46,
   "id": "f493e421-36c7-4901-a6d5-81a517d791e6",
   "metadata": {},
   "outputs": [
    {
     "name": "stdin",
     "output_type": "stream",
     "text": [
      "enter your marks 55\n"
     ]
    },
    {
     "name": "stdout",
     "output_type": "stream",
     "text": [
      "you will be a part of A2 batch\n"
     ]
    }
   ],
   "source": [
    "\n",
    "marks = int(input(\"enter your marks\"))\n",
    "if marks >= 80:\n",
    "    print(\"you will be a part of A0 batch\")\n",
    "elif marks >= 60 and marks < 80:\n",
    "    print(\"you will be part of A1 batch\")\n",
    "elif marks >= 40 and marks < 60:\n",
    "    print(\"you will be a part of A2 batch\")\n",
    "else:\n",
    "    print(\"you will be a part of A3 batch\")\n"
   ]
  },
  {
   "cell_type": "code",
   "execution_count": 40,
   "id": "574af631-215b-4ec4-844d-6f5a1374df79",
   "metadata": {},
   "outputs": [
    {
     "data": {
      "text/plain": [
       "False"
      ]
     },
     "execution_count": 40,
     "metadata": {},
     "output_type": "execute_result"
    }
   ],
   "source": [
    "10 >= 60 and 10 <80"
   ]
  },
  {
   "cell_type": "code",
   "execution_count": 41,
   "id": "cc93502f-f599-4a26-8ef6-6cc3d9b698db",
   "metadata": {},
   "outputs": [
    {
     "data": {
      "text/plain": [
       "True"
      ]
     },
     "execution_count": 41,
     "metadata": {},
     "output_type": "execute_result"
    }
   ],
   "source": [
    "10<80"
   ]
  },
  {
   "cell_type": "code",
   "execution_count": null,
   "id": "55b5e282-15c3-466a-8a1e-35a59580a83c",
   "metadata": {},
   "outputs": [],
   "source": []
  },
  {
   "cell_type": "code",
   "execution_count": 44,
   "id": "e8cc4aab-e096-4c1e-a4a2-60bf689c5915",
   "metadata": {},
   "outputs": [
    {
     "data": {
      "text/plain": [
       "False"
      ]
     },
     "execution_count": 44,
     "metadata": {},
     "output_type": "execute_result"
    }
   ],
   "source": [
    "False and True"
   ]
  },
  {
   "cell_type": "code",
   "execution_count": 45,
   "id": "beda6cba-268f-484a-86e5-68e682ea062b",
   "metadata": {},
   "outputs": [
    {
     "data": {
      "text/plain": [
       "True"
      ]
     },
     "execution_count": 45,
     "metadata": {},
     "output_type": "execute_result"
    }
   ],
   "source": [
    "True and True"
   ]
  },
  {
   "cell_type": "code",
   "execution_count": 48,
   "id": "06481eee-fa9a-439c-b38f-a193b3c4c867",
   "metadata": {},
   "outputs": [
    {
     "name": "stdin",
     "output_type": "stream",
     "text": [
      "enter price   7000\n"
     ]
    },
    {
     "name": "stdout",
     "output_type": "stream",
     "text": [
      "i will not purchase\n"
     ]
    }
   ],
   "source": [
    "price = int(input(\"enter price  \"))\n",
    "if price > 1000:\n",
    "    print(\"i will not purchase\")\n",
    "else:\n",
    "    print(\"i will purchase\")"
   ]
  },
  {
   "cell_type": "code",
   "execution_count": 49,
   "id": "0ce20e45-941f-492e-b60d-52d7c99e1684",
   "metadata": {},
   "outputs": [],
   "source": [
    "l = [1,2,3,4,5,\"girish\",\"jaiswal\",78.98,23,\"abc\"]"
   ]
  },
  {
   "cell_type": "code",
   "execution_count": 50,
   "id": "65f2c2cb-e624-40f4-9b19-f0478a24beea",
   "metadata": {},
   "outputs": [],
   "source": [
    "l1_num = []\n",
    "l2_str = []\n",
    "for i in l:\n",
    "    if type(i) == int or type(i) == float:\n",
    "        l1_num.append(i)\n",
    "    else:\n",
    "        l2_str.append(i)\n"
   ]
  },
  {
   "cell_type": "code",
   "execution_count": 51,
   "id": "5572576c-d958-4287-8041-36183e33c7bc",
   "metadata": {},
   "outputs": [
    {
     "data": {
      "text/plain": [
       "[1, 2, 3, 4, 5, 78.98, 23]"
      ]
     },
     "execution_count": 51,
     "metadata": {},
     "output_type": "execute_result"
    }
   ],
   "source": [
    "l1_num"
   ]
  },
  {
   "cell_type": "code",
   "execution_count": 52,
   "id": "96a4eea1-68ac-4be2-be11-56d7167b1b50",
   "metadata": {},
   "outputs": [
    {
     "data": {
      "text/plain": [
       "['girish', 'jaiswal', 'abc']"
      ]
     },
     "execution_count": 52,
     "metadata": {},
     "output_type": "execute_result"
    }
   ],
   "source": [
    "l2_str"
   ]
  },
  {
   "cell_type": "code",
   "execution_count": null,
   "id": "755cc19e-23de-4046-b91e-417096388ad1",
   "metadata": {},
   "outputs": [],
   "source": []
  }
 ],
 "metadata": {
  "kernelspec": {
   "display_name": "Python 3 (ipykernel)",
   "language": "python",
   "name": "python3"
  },
  "language_info": {
   "codemirror_mode": {
    "name": "ipython",
    "version": 3
   },
   "file_extension": ".py",
   "mimetype": "text/x-python",
   "name": "python",
   "nbconvert_exporter": "python",
   "pygments_lexer": "ipython3",
   "version": "3.10.8"
  }
 },
 "nbformat": 4,
 "nbformat_minor": 5
}
