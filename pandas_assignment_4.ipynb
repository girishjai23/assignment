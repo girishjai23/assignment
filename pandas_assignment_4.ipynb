{
 "cells": [
  {
   "cell_type": "code",
   "execution_count": 2,
   "id": "33035bb7-aece-4e16-ba97-27fa872aaaf7",
   "metadata": {},
   "outputs": [],
   "source": [
    "#Consider following code to answer further questions:\n",
    "\n",
    "import pandas as pd\n",
    "\n",
    "course_name = ['Data Science', 'Machine Learning', 'Big Data', 'Data Engineer']\n",
    "\n",
    "duration =[2,3,6,4]\n",
    "\n",
    "df = pd.DataFrame(data = {'course_name' : course_name, 'duration' : duration})"
   ]
  },
  {
   "cell_type": "code",
   "execution_count": 3,
   "id": "6aa71200-fffa-4afa-8f08-b228f4fcc479",
   "metadata": {},
   "outputs": [
    {
     "data": {
      "text/plain": [
       "course_name    Machine Learning\n",
       "duration                      3\n",
       "Name: 1, dtype: object"
      ]
     },
     "execution_count": 3,
     "metadata": {},
     "output_type": "execute_result"
    }
   ],
   "source": [
    "# Q1. Write a code to print the data present in the second row of the dataframe, df.\n",
    "df.iloc[1,:]\n",
    "# df[1:2]"
   ]
  },
  {
   "cell_type": "code",
   "execution_count": null,
   "id": "814b3ec5-465b-4b70-a727-ff59f636ddd9",
   "metadata": {},
   "outputs": [],
   "source": [
    "# Q2. What is the difference between the functions loc and iloc in pandas.DataFrame?\n",
    "'''\n",
    "loc and iloc are two functions in Pandas that are used to slice a data set in a Pandas DataFrame.\n",
    "The function df.loc is typically used for label indexing and can access multiple columns,\n",
    "while df.iloc is used for integer indexing\n",
    "\n",
    "loc[] is used to select rows and columns by Names/Labels\n",
    "iloc[] is used to select rows and columns by Integer Index/Position. zero based index position.\n",
    "\n",
    "'''"
   ]
  },
  {
   "cell_type": "code",
   "execution_count": 4,
   "id": "e5385ae7-004e-4a95-a934-fb12fa27736d",
   "metadata": {},
   "outputs": [],
   "source": [
    "# Q3.Reindex the given dataframe using a variable, reindex = [3,0,1,2] and store it in the variable, new_df\n",
    "# then find the output for both new_df.loc[2] and new_df.iloc[2].\n",
    "# Did you observe any difference in both the outputs? If so then explain it.\n",
    "\n",
    "\n",
    "course_name = ['Data Science', 'Machine Learning', 'Big Data', 'Data Engineer']\n",
    "\n",
    "duration =[2,3,6,4]\n",
    "\n",
    "df = pd.DataFrame(data = {'course_name' : course_name, 'duration' : duration})"
   ]
  },
  {
   "cell_type": "code",
   "execution_count": 8,
   "id": "24d65c6a-99f7-4c32-a367-c84c52dfd7f4",
   "metadata": {},
   "outputs": [
    {
     "data": {
      "text/html": [
       "<div>\n",
       "<style scoped>\n",
       "    .dataframe tbody tr th:only-of-type {\n",
       "        vertical-align: middle;\n",
       "    }\n",
       "\n",
       "    .dataframe tbody tr th {\n",
       "        vertical-align: top;\n",
       "    }\n",
       "\n",
       "    .dataframe thead th {\n",
       "        text-align: right;\n",
       "    }\n",
       "</style>\n",
       "<table border=\"1\" class=\"dataframe\">\n",
       "  <thead>\n",
       "    <tr style=\"text-align: right;\">\n",
       "      <th></th>\n",
       "      <th>course_name</th>\n",
       "      <th>duration</th>\n",
       "    </tr>\n",
       "  </thead>\n",
       "  <tbody>\n",
       "    <tr>\n",
       "      <th>0</th>\n",
       "      <td>Data Science</td>\n",
       "      <td>2</td>\n",
       "    </tr>\n",
       "    <tr>\n",
       "      <th>1</th>\n",
       "      <td>Machine Learning</td>\n",
       "      <td>3</td>\n",
       "    </tr>\n",
       "    <tr>\n",
       "      <th>2</th>\n",
       "      <td>Big Data</td>\n",
       "      <td>6</td>\n",
       "    </tr>\n",
       "    <tr>\n",
       "      <th>3</th>\n",
       "      <td>Data Engineer</td>\n",
       "      <td>4</td>\n",
       "    </tr>\n",
       "  </tbody>\n",
       "</table>\n",
       "</div>"
      ],
      "text/plain": [
       "        course_name  duration\n",
       "0      Data Science         2\n",
       "1  Machine Learning         3\n",
       "2          Big Data         6\n",
       "3     Data Engineer         4"
      ]
     },
     "execution_count": 8,
     "metadata": {},
     "output_type": "execute_result"
    }
   ],
   "source": [
    "df # before"
   ]
  },
  {
   "cell_type": "code",
   "execution_count": 5,
   "id": "5f31e21f-3f97-4c39-9e28-db4b6e08dd81",
   "metadata": {},
   "outputs": [],
   "source": [
    "new_df = df.reindex([3,0,1,2])"
   ]
  },
  {
   "cell_type": "code",
   "execution_count": 9,
   "id": "866e1d90-6d64-408b-9a6b-d7f997ea400c",
   "metadata": {},
   "outputs": [
    {
     "data": {
      "text/html": [
       "<div>\n",
       "<style scoped>\n",
       "    .dataframe tbody tr th:only-of-type {\n",
       "        vertical-align: middle;\n",
       "    }\n",
       "\n",
       "    .dataframe tbody tr th {\n",
       "        vertical-align: top;\n",
       "    }\n",
       "\n",
       "    .dataframe thead th {\n",
       "        text-align: right;\n",
       "    }\n",
       "</style>\n",
       "<table border=\"1\" class=\"dataframe\">\n",
       "  <thead>\n",
       "    <tr style=\"text-align: right;\">\n",
       "      <th></th>\n",
       "      <th>course_name</th>\n",
       "      <th>duration</th>\n",
       "    </tr>\n",
       "  </thead>\n",
       "  <tbody>\n",
       "    <tr>\n",
       "      <th>3</th>\n",
       "      <td>Data Engineer</td>\n",
       "      <td>4</td>\n",
       "    </tr>\n",
       "    <tr>\n",
       "      <th>0</th>\n",
       "      <td>Data Science</td>\n",
       "      <td>2</td>\n",
       "    </tr>\n",
       "    <tr>\n",
       "      <th>1</th>\n",
       "      <td>Machine Learning</td>\n",
       "      <td>3</td>\n",
       "    </tr>\n",
       "    <tr>\n",
       "      <th>2</th>\n",
       "      <td>Big Data</td>\n",
       "      <td>6</td>\n",
       "    </tr>\n",
       "  </tbody>\n",
       "</table>\n",
       "</div>"
      ],
      "text/plain": [
       "        course_name  duration\n",
       "3     Data Engineer         4\n",
       "0      Data Science         2\n",
       "1  Machine Learning         3\n",
       "2          Big Data         6"
      ]
     },
     "execution_count": 9,
     "metadata": {},
     "output_type": "execute_result"
    }
   ],
   "source": [
    "new_df # after"
   ]
  },
  {
   "cell_type": "code",
   "execution_count": 6,
   "id": "09eee098-9e25-4b1c-9a97-187e2c8f6bc7",
   "metadata": {},
   "outputs": [
    {
     "data": {
      "text/plain": [
       "course_name    Big Data\n",
       "duration              6\n",
       "Name: 2, dtype: object"
      ]
     },
     "execution_count": 6,
     "metadata": {},
     "output_type": "execute_result"
    }
   ],
   "source": [
    "new_df.loc[2] # this is give by Labels indexing."
   ]
  },
  {
   "cell_type": "code",
   "execution_count": 7,
   "id": "b603c663-e039-4689-9903-f9288366ce0e",
   "metadata": {},
   "outputs": [
    {
     "data": {
      "text/plain": [
       "course_name    Machine Learning\n",
       "duration                      3\n",
       "Name: 1, dtype: object"
      ]
     },
     "execution_count": 7,
     "metadata": {},
     "output_type": "execute_result"
    }
   ],
   "source": [
    "new_df.iloc[2] # this is give by Integer Index/Position.zero based index position."
   ]
  },
  {
   "cell_type": "code",
   "execution_count": 10,
   "id": "d6f2c9d4-b3f6-4c3e-a6c1-0a0bb0a0fe04",
   "metadata": {},
   "outputs": [],
   "source": [
    "# Consider the below code to answer further questions:\n",
    "import pandas as pd\n",
    "import numpy as np\n",
    "\n",
    "columns = ['column_1', 'column_2', 'column_3', 'column_4', 'column_5', 'column_6']\n",
    "\n",
    "indices = [1,2,3,4,5,6]\n",
    "\n",
    "#Creating a dataframe:\n",
    "\n",
    "df1 = pd.DataFrame(np.random.rand(6,6), columns = columns, index = indices)"
   ]
  },
  {
   "cell_type": "code",
   "execution_count": 11,
   "id": "3a4a6b09-faa9-41e4-ae11-9b9d44d53a91",
   "metadata": {},
   "outputs": [
    {
     "data": {
      "text/html": [
       "<div>\n",
       "<style scoped>\n",
       "    .dataframe tbody tr th:only-of-type {\n",
       "        vertical-align: middle;\n",
       "    }\n",
       "\n",
       "    .dataframe tbody tr th {\n",
       "        vertical-align: top;\n",
       "    }\n",
       "\n",
       "    .dataframe thead th {\n",
       "        text-align: right;\n",
       "    }\n",
       "</style>\n",
       "<table border=\"1\" class=\"dataframe\">\n",
       "  <thead>\n",
       "    <tr style=\"text-align: right;\">\n",
       "      <th></th>\n",
       "      <th>column_1</th>\n",
       "      <th>column_2</th>\n",
       "      <th>column_3</th>\n",
       "      <th>column_4</th>\n",
       "      <th>column_5</th>\n",
       "      <th>column_6</th>\n",
       "    </tr>\n",
       "  </thead>\n",
       "  <tbody>\n",
       "    <tr>\n",
       "      <th>1</th>\n",
       "      <td>0.868682</td>\n",
       "      <td>0.769673</td>\n",
       "      <td>0.760830</td>\n",
       "      <td>0.068873</td>\n",
       "      <td>0.097578</td>\n",
       "      <td>0.475320</td>\n",
       "    </tr>\n",
       "    <tr>\n",
       "      <th>2</th>\n",
       "      <td>0.963266</td>\n",
       "      <td>0.938859</td>\n",
       "      <td>0.520036</td>\n",
       "      <td>0.944168</td>\n",
       "      <td>0.459235</td>\n",
       "      <td>0.404294</td>\n",
       "    </tr>\n",
       "    <tr>\n",
       "      <th>3</th>\n",
       "      <td>0.211231</td>\n",
       "      <td>0.538311</td>\n",
       "      <td>0.713514</td>\n",
       "      <td>0.529857</td>\n",
       "      <td>0.223383</td>\n",
       "      <td>0.829805</td>\n",
       "    </tr>\n",
       "    <tr>\n",
       "      <th>4</th>\n",
       "      <td>0.577863</td>\n",
       "      <td>0.611344</td>\n",
       "      <td>0.308772</td>\n",
       "      <td>0.545998</td>\n",
       "      <td>0.849556</td>\n",
       "      <td>0.746367</td>\n",
       "    </tr>\n",
       "    <tr>\n",
       "      <th>5</th>\n",
       "      <td>0.306195</td>\n",
       "      <td>0.844140</td>\n",
       "      <td>0.814618</td>\n",
       "      <td>0.098484</td>\n",
       "      <td>0.531677</td>\n",
       "      <td>0.948954</td>\n",
       "    </tr>\n",
       "    <tr>\n",
       "      <th>6</th>\n",
       "      <td>0.589396</td>\n",
       "      <td>0.084953</td>\n",
       "      <td>0.132557</td>\n",
       "      <td>0.082358</td>\n",
       "      <td>0.048325</td>\n",
       "      <td>0.563471</td>\n",
       "    </tr>\n",
       "  </tbody>\n",
       "</table>\n",
       "</div>"
      ],
      "text/plain": [
       "   column_1  column_2  column_3  column_4  column_5  column_6\n",
       "1  0.868682  0.769673  0.760830  0.068873  0.097578  0.475320\n",
       "2  0.963266  0.938859  0.520036  0.944168  0.459235  0.404294\n",
       "3  0.211231  0.538311  0.713514  0.529857  0.223383  0.829805\n",
       "4  0.577863  0.611344  0.308772  0.545998  0.849556  0.746367\n",
       "5  0.306195  0.844140  0.814618  0.098484  0.531677  0.948954\n",
       "6  0.589396  0.084953  0.132557  0.082358  0.048325  0.563471"
      ]
     },
     "execution_count": 11,
     "metadata": {},
     "output_type": "execute_result"
    }
   ],
   "source": [
    "df1"
   ]
  },
  {
   "cell_type": "code",
   "execution_count": 15,
   "id": "a8d7cff4-98d0-4ba1-a70e-b9f7cc514588",
   "metadata": {},
   "outputs": [
    {
     "data": {
      "text/plain": [
       "column_1    0.586\n",
       "column_2    0.631\n",
       "column_3    0.542\n",
       "column_4    0.378\n",
       "column_5    0.368\n",
       "column_6    0.661\n",
       "dtype: float64"
      ]
     },
     "execution_count": 15,
     "metadata": {},
     "output_type": "execute_result"
    }
   ],
   "source": [
    "#Q4. Write a code to find the following statistical measurements for the above dataframe df1:\n",
    "\n",
    "#(i) mean of each and every column present in the dataframe.\n",
    "\n",
    "# df1.mean()\n",
    "round(df1.iloc[:,:].mean(),3)"
   ]
  },
  {
   "cell_type": "code",
   "execution_count": 14,
   "id": "95934f3a-3f60-4c8e-80be-9d8700d14044",
   "metadata": {},
   "outputs": [
    {
     "data": {
      "text/plain": [
       "0.31"
      ]
     },
     "execution_count": 14,
     "metadata": {},
     "output_type": "execute_result"
    }
   ],
   "source": [
    "# Q4.(ii) standard deviation of column, ‘column_2’\n",
    "# df1['column_2'].std()\n",
    "round(df1.loc[:,'column_2'].std(),2)"
   ]
  },
  {
   "cell_type": "code",
   "execution_count": 16,
   "id": "4d1258ad-167b-4400-8880-ecfad0d1c9d8",
   "metadata": {},
   "outputs": [],
   "source": [
    "#Q5. Replace the data present in the second row of column, ‘column_2’ by a string variable then find the\n",
    "# mean of column, column_2.\n",
    "#If you are getting errors in executing it then explain why.\n",
    "\n",
    "# df1['column_2'][2] = 'fill'\n",
    "df1.loc[2,'column_2'] = 'fill'"
   ]
  },
  {
   "cell_type": "code",
   "execution_count": 17,
   "id": "c752441e-10bb-4fb6-b0e9-71901a2ac225",
   "metadata": {},
   "outputs": [
    {
     "data": {
      "text/html": [
       "<div>\n",
       "<style scoped>\n",
       "    .dataframe tbody tr th:only-of-type {\n",
       "        vertical-align: middle;\n",
       "    }\n",
       "\n",
       "    .dataframe tbody tr th {\n",
       "        vertical-align: top;\n",
       "    }\n",
       "\n",
       "    .dataframe thead th {\n",
       "        text-align: right;\n",
       "    }\n",
       "</style>\n",
       "<table border=\"1\" class=\"dataframe\">\n",
       "  <thead>\n",
       "    <tr style=\"text-align: right;\">\n",
       "      <th></th>\n",
       "      <th>column_1</th>\n",
       "      <th>column_2</th>\n",
       "      <th>column_3</th>\n",
       "      <th>column_4</th>\n",
       "      <th>column_5</th>\n",
       "      <th>column_6</th>\n",
       "    </tr>\n",
       "  </thead>\n",
       "  <tbody>\n",
       "    <tr>\n",
       "      <th>1</th>\n",
       "      <td>0.868682</td>\n",
       "      <td>0.769673</td>\n",
       "      <td>0.760830</td>\n",
       "      <td>0.068873</td>\n",
       "      <td>0.097578</td>\n",
       "      <td>0.475320</td>\n",
       "    </tr>\n",
       "    <tr>\n",
       "      <th>2</th>\n",
       "      <td>0.963266</td>\n",
       "      <td>fill</td>\n",
       "      <td>0.520036</td>\n",
       "      <td>0.944168</td>\n",
       "      <td>0.459235</td>\n",
       "      <td>0.404294</td>\n",
       "    </tr>\n",
       "    <tr>\n",
       "      <th>3</th>\n",
       "      <td>0.211231</td>\n",
       "      <td>0.538311</td>\n",
       "      <td>0.713514</td>\n",
       "      <td>0.529857</td>\n",
       "      <td>0.223383</td>\n",
       "      <td>0.829805</td>\n",
       "    </tr>\n",
       "    <tr>\n",
       "      <th>4</th>\n",
       "      <td>0.577863</td>\n",
       "      <td>0.611344</td>\n",
       "      <td>0.308772</td>\n",
       "      <td>0.545998</td>\n",
       "      <td>0.849556</td>\n",
       "      <td>0.746367</td>\n",
       "    </tr>\n",
       "    <tr>\n",
       "      <th>5</th>\n",
       "      <td>0.306195</td>\n",
       "      <td>0.84414</td>\n",
       "      <td>0.814618</td>\n",
       "      <td>0.098484</td>\n",
       "      <td>0.531677</td>\n",
       "      <td>0.948954</td>\n",
       "    </tr>\n",
       "    <tr>\n",
       "      <th>6</th>\n",
       "      <td>0.589396</td>\n",
       "      <td>0.084953</td>\n",
       "      <td>0.132557</td>\n",
       "      <td>0.082358</td>\n",
       "      <td>0.048325</td>\n",
       "      <td>0.563471</td>\n",
       "    </tr>\n",
       "  </tbody>\n",
       "</table>\n",
       "</div>"
      ],
      "text/plain": [
       "   column_1  column_2  column_3  column_4  column_5  column_6\n",
       "1  0.868682  0.769673  0.760830  0.068873  0.097578  0.475320\n",
       "2  0.963266      fill  0.520036  0.944168  0.459235  0.404294\n",
       "3  0.211231  0.538311  0.713514  0.529857  0.223383  0.829805\n",
       "4  0.577863  0.611344  0.308772  0.545998  0.849556  0.746367\n",
       "5  0.306195   0.84414  0.814618  0.098484  0.531677  0.948954\n",
       "6  0.589396  0.084953  0.132557  0.082358  0.048325  0.563471"
      ]
     },
     "execution_count": 17,
     "metadata": {},
     "output_type": "execute_result"
    }
   ],
   "source": [
    "df1"
   ]
  },
  {
   "cell_type": "code",
   "execution_count": null,
   "id": "e0a3fc65-b1ce-4226-a26f-188064a7f648",
   "metadata": {},
   "outputs": [],
   "source": [
    "# df1.loc[:,:].mean() using this condition we not got error becouse it neglect column_2\n",
    "\n",
    "# using this condition we got error ,this conditon give Serise dataset like list \n",
    "df1['column_2'].mean() # to get mean value, all value of this columnis numerica."
   ]
  },
  {
   "cell_type": "code",
   "execution_count": null,
   "id": "c9eece4e-e653-42ec-bf43-481509712862",
   "metadata": {},
   "outputs": [],
   "source": [
    "#Q6. What do you understand about the windows function in pandas and list the types of windows functions?\n",
    "\n",
    "'''\n",
    "Pandas Window functions are functions where the input values \n",
    "are taken from a window of one or more rows in a series or\n",
    "a table and calculation is performed over them.\n",
    "The word window means the number of rows between the two boundaries\n",
    "by which we perform calculations including the boundary rows.\n",
    "\n",
    "Pandas only give functions for 4 types of windowing operations\n",
    "\n",
    "1.Rolling window operations\n",
    "2.Weighted window operations\n",
    "3.Expanding window operations\n",
    "4.Exponentially Weighted window\n",
    "\n",
    "but we using rolling window condition only.\n",
    "\n",
    "'''"
   ]
  },
  {
   "cell_type": "code",
   "execution_count": 22,
   "id": "d6d4a974-51ab-466e-95a7-e1f093b4c5a3",
   "metadata": {},
   "outputs": [
    {
     "name": "stderr",
     "output_type": "stream",
     "text": [
      "/tmp/ipykernel_109/623889985.py:3: FutureWarning: The pandas.datetime class is deprecated and will be removed from pandas in a future version. Import from datetime module instead.\n",
      "  now_date = pd.datetime.now()\n"
     ]
    }
   ],
   "source": [
    "#Q7. Write a code to print only the current month and year at the time of answering this question.\n",
    "#[Hint: Use pandas.datetime function]\n",
    "now_date = pd.datetime.now()\n"
   ]
  },
  {
   "cell_type": "code",
   "execution_count": 23,
   "id": "09617ab4-6f9b-4582-a418-bf5b91748cf4",
   "metadata": {},
   "outputs": [
    {
     "data": {
      "text/plain": [
       "6"
      ]
     },
     "execution_count": 23,
     "metadata": {},
     "output_type": "execute_result"
    }
   ],
   "source": [
    "now_date.month"
   ]
  },
  {
   "cell_type": "code",
   "execution_count": 24,
   "id": "dbf1a62c-f081-479c-93c6-04d27786ea4f",
   "metadata": {},
   "outputs": [
    {
     "data": {
      "text/plain": [
       "2023"
      ]
     },
     "execution_count": 24,
     "metadata": {},
     "output_type": "execute_result"
    }
   ],
   "source": [
    "now_date.year"
   ]
  },
  {
   "cell_type": "code",
   "execution_count": 32,
   "id": "27b64524-d469-451f-9625-ca056b97e0fa",
   "metadata": {},
   "outputs": [
    {
     "name": "stdin",
     "output_type": "stream",
     "text": [
      "Entry date in the format YYYY-MM-DD:-  2023-06-01\n",
      "Entry date in the format YYYY-MM-DD:-  2023-05-31\n"
     ]
    }
   ],
   "source": [
    "#Q8. Write a Python program that takes in two dates as input (in the format YYYY-MM-DD) and\n",
    "#calculates the difference between them in days, hours, and minutes using Pandas time delta. The\n",
    "#program should prompt the user to enter the dates and display the result.\n",
    "\n",
    "to_date = input('Entry date in the format YYYY-MM-DD:- ')\n",
    "from_date = input('Entry date in the format YYYY-MM-DD:- ')\n",
    "\n",
    "to_date_1 = pd.to_datetime(to_date)\n",
    "from_date_2 = pd.to_datetime(from_date)"
   ]
  },
  {
   "cell_type": "code",
   "execution_count": 33,
   "id": "4600ce70-9542-481d-a689-d755a7395dfb",
   "metadata": {},
   "outputs": [],
   "source": [
    "days = to_date_1-from_date_2"
   ]
  },
  {
   "cell_type": "code",
   "execution_count": 34,
   "id": "ce82f7ee-ad90-455b-8819-89c0db52b641",
   "metadata": {},
   "outputs": [
    {
     "data": {
      "text/plain": [
       "Timedelta('1 days 00:00:00')"
      ]
     },
     "execution_count": 34,
     "metadata": {},
     "output_type": "execute_result"
    }
   ],
   "source": [
    "days"
   ]
  },
  {
   "cell_type": "code",
   "execution_count": 35,
   "id": "be2b3608-0068-42b1-9703-9b22ad6a2acf",
   "metadata": {},
   "outputs": [],
   "source": [
    "minute = to_date_1.minute - from_date_2.minute"
   ]
  },
  {
   "cell_type": "code",
   "execution_count": 36,
   "id": "bd4f5467-5924-4240-bd01-16d2c8487b18",
   "metadata": {},
   "outputs": [
    {
     "data": {
      "text/plain": [
       "0"
      ]
     },
     "execution_count": 36,
     "metadata": {},
     "output_type": "execute_result"
    }
   ],
   "source": [
    "minute"
   ]
  },
  {
   "cell_type": "code",
   "execution_count": 37,
   "id": "63dcd385-c71a-438e-b266-6f67fdbc32b2",
   "metadata": {},
   "outputs": [],
   "source": [
    "hours = to_date_1.hour - from_date_2.hour"
   ]
  },
  {
   "cell_type": "code",
   "execution_count": 38,
   "id": "792350e4-c24c-486a-a333-be137f3c2236",
   "metadata": {},
   "outputs": [
    {
     "data": {
      "text/plain": [
       "0"
      ]
     },
     "execution_count": 38,
     "metadata": {},
     "output_type": "execute_result"
    }
   ],
   "source": [
    "hours"
   ]
  },
  {
   "cell_type": "code",
   "execution_count": 40,
   "id": "7dfef33a-ffce-43d4-91a1-75445b4f89e8",
   "metadata": {},
   "outputs": [
    {
     "name": "stdin",
     "output_type": "stream",
     "text": [
      "Enter path of csv file containing categorical data:- taxonomy.csv.xls\n",
      "Specificed column to categorical data type:- name\n",
      "Specifice category order \"True/False\" True\n"
     ]
    }
   ],
   "source": [
    "# Q9. Write a Python program that reads a CSV file containing categorical data and converts a specified\n",
    "# column to a categorical data type. The program should prompt the user to enter the file path, column\n",
    "# name, and category order, and then display the sorted data.\n",
    "\n",
    "path = input('Enter path of csv file containing categorical data:-')\n",
    "df = pd.read_csv(path)\n",
    "specificed_column = input('Specificed column to categorical data type:-')\n",
    "categorical_data = df[specificed_column]\n",
    "category_order = bool(input('Specifice category order \"True/False\"'))\n",
    "\n",
    "cat = pd.Categorical(categorical_data,ordered=category_order)"
   ]
  },
  {
   "cell_type": "code",
   "execution_count": 41,
   "id": "b0358398-6ac5-431a-913a-1c3ecaf67a8d",
   "metadata": {},
   "outputs": [
    {
     "data": {
      "text/plain": [
       "['Emergency', 'Disaster Response', 'Emergency Cash', 'Help Pay for Food', 'Help Pay for Healthcare', ..., 'Workplace Rights', 'Mediation', 'Notary', 'Representation', 'Translation & Interpretation']\n",
       "Length: 290\n",
       "Categories (183, object): ['12-Step' < 'Addiction & Recovery' < 'Adoption & Foster Care' < 'Adoption & Foster Parenting' ... 'Virtual Support' < 'Vision Tests' < 'Work' < 'Workplace Rights']"
      ]
     },
     "execution_count": 41,
     "metadata": {},
     "output_type": "execute_result"
    }
   ],
   "source": [
    "cat"
   ]
  },
  {
   "cell_type": "code",
   "execution_count": 60,
   "id": "eee6ed5a-9766-4705-967a-5a5c08cec989",
   "metadata": {},
   "outputs": [
    {
     "name": "stdin",
     "output_type": "stream",
     "text": [
      "Enter csv file address containing sales data:-  sales.csv\n"
     ]
    }
   ],
   "source": [
    "# Q10. Write a Python program that reads a CSV file containing sales data for different products and\n",
    "# visualizes the data using a stacked bar chart to show the sales of each product category over time. The\n",
    "# program should prompt the user to enter the file path and display the chart.\n",
    "\n",
    "import matplotlib as mtp\n",
    "path = input('Enter csv file address containing sales data:- ')\n",
    "\n",
    "sales_df = pd.read_csv(path,delimiter=',')"
   ]
  },
  {
   "cell_type": "code",
   "execution_count": 61,
   "id": "76e332f4-669e-42e5-98fa-b1b8c6b15841",
   "metadata": {},
   "outputs": [
    {
     "data": {
      "text/html": [
       "<div>\n",
       "<style scoped>\n",
       "    .dataframe tbody tr th:only-of-type {\n",
       "        vertical-align: middle;\n",
       "    }\n",
       "\n",
       "    .dataframe tbody tr th {\n",
       "        vertical-align: top;\n",
       "    }\n",
       "\n",
       "    .dataframe thead th {\n",
       "        text-align: right;\n",
       "    }\n",
       "</style>\n",
       "<table border=\"1\" class=\"dataframe\">\n",
       "  <thead>\n",
       "    <tr style=\"text-align: right;\">\n",
       "      <th></th>\n",
       "      <th>product</th>\n",
       "      <th>sales_amount</th>\n",
       "    </tr>\n",
       "  </thead>\n",
       "  <tbody>\n",
       "    <tr>\n",
       "      <th>0</th>\n",
       "      <td>apple</td>\n",
       "      <td>200</td>\n",
       "    </tr>\n",
       "    <tr>\n",
       "      <th>1</th>\n",
       "      <td>banana</td>\n",
       "      <td>500</td>\n",
       "    </tr>\n",
       "    <tr>\n",
       "      <th>2</th>\n",
       "      <td>orange</td>\n",
       "      <td>300</td>\n",
       "    </tr>\n",
       "    <tr>\n",
       "      <th>3</th>\n",
       "      <td>watermelon</td>\n",
       "      <td>1000</td>\n",
       "    </tr>\n",
       "  </tbody>\n",
       "</table>\n",
       "</div>"
      ],
      "text/plain": [
       "      product  sales_amount\n",
       "0       apple           200\n",
       "1      banana           500\n",
       "2      orange           300\n",
       "3  watermelon          1000"
      ]
     },
     "execution_count": 61,
     "metadata": {},
     "output_type": "execute_result"
    }
   ],
   "source": [
    "sales_df"
   ]
  },
  {
   "cell_type": "code",
   "execution_count": 65,
   "id": "351c82d5-778a-4988-80cc-d5d3519b4433",
   "metadata": {},
   "outputs": [
    {
     "data": {
      "text/plain": [
       "<AxesSubplot: xlabel='product'>"
      ]
     },
     "execution_count": 65,
     "metadata": {},
     "output_type": "execute_result"
    },
    {
     "data": {
      "image/png": "[encoded data removed]",
      "text/plain": [
       "<Figure size 640x480 with 1 Axes>"
      ]
     },
     "metadata": {},
     "output_type": "display_data"
    }
   ],
   "source": [
    "sales_df.plot.bar(x='product',y='sales_amount')"
   ]
  },
  {
   "cell_type": "code",
   "execution_count": 66,
   "id": "d39673e1-2f94-4b39-ba37-afa25bf99ed0",
   "metadata": {},
   "outputs": [
    {
     "name": "stdin",
     "output_type": "stream",
     "text": [
      "Enter csv file address containing student test score:-  student_data.csv\n"
     ]
    }
   ],
   "source": [
    "# Q11. You are given a CSV file containing student data that includes the student ID and their test score. Write\n",
    "# a Python program that reads the CSV file, calculates the mean, median, and mode of the test scores, and\n",
    "# displays the results in a table.\n",
    "\n",
    "path = input('Enter csv file address containing student test score:- ')\n",
    "\n",
    "student_data = pd.read_csv(path)\n"
   ]
  },
  {
   "cell_type": "code",
   "execution_count": 67,
   "id": "a609b231-507c-4a38-b2a1-6f6ee206eb7e",
   "metadata": {},
   "outputs": [],
   "source": [
    "mean = student_data.loc[:,'Test Score'].mean()"
   ]
  },
  {
   "cell_type": "code",
   "execution_count": 68,
   "id": "0eb97e7a-912f-4930-a219-b65cc3e71207",
   "metadata": {},
   "outputs": [],
   "source": [
    "mediam = student_data.loc[:,'Test Score'].median()"
   ]
  },
  {
   "cell_type": "code",
   "execution_count": 69,
   "id": "57a078b5-d3cc-4580-a7fd-d71a096165e6",
   "metadata": {},
   "outputs": [],
   "source": [
    "mode = student_data.loc[:,'Test Score'].mode()"
   ]
  },
  {
   "cell_type": "code",
   "execution_count": 71,
   "id": "5803523f-7ed6-477c-a1a6-64975caa599e",
   "metadata": {},
   "outputs": [],
   "source": [
    "data = [['mean',mean],\n",
    "       ['mediam',mediam],\n",
    "       ['mode',mode[0]]]"
   ]
  },
  {
   "cell_type": "code",
   "execution_count": 72,
   "id": "e59e053f-400c-4b49-b7ce-45c0144fbda0",
   "metadata": {},
   "outputs": [
    {
     "data": {
      "text/plain": [
       "[['mean', 83.5], ['mediam', 85.0], ['mode', 85]]"
      ]
     },
     "execution_count": 72,
     "metadata": {},
     "output_type": "execute_result"
    }
   ],
   "source": [
    "data"
   ]
  },
  {
   "cell_type": "code",
   "execution_count": 74,
   "id": "a0ccf5c3-e586-4b94-b4c5-52674c44413e",
   "metadata": {},
   "outputs": [
    {
     "name": "stdout",
     "output_type": "stream",
     "text": [
      "Collecting tabulate\n",
      "  Downloading tabulate-0.9.0-py3-none-any.whl (35 kB)\n",
      "Installing collected packages: tabulate\n",
      "Successfully installed tabulate-0.9.0\n",
      "Note: you may need to restart the kernel to use updated packages.\n"
     ]
    }
   ],
   "source": [
    "pip install tabulate"
   ]
  },
  {
   "cell_type": "code",
   "execution_count": 75,
   "id": "158979d6-f6fd-404e-8355-dd228abbe647",
   "metadata": {},
   "outputs": [
    {
     "name": "stdout",
     "output_type": "stream",
     "text": [
      "Statistic      Value\n",
      "-----------  -------\n",
      "mean            83.5\n",
      "mediam          85\n",
      "mode            85\n"
     ]
    }
   ],
   "source": [
    "from  tabulate import tabulate\n",
    "print (tabulate(data, headers=[\"Statistic\",'Value']))"
   ]
  },
  {
   "cell_type": "code",
   "execution_count": null,
   "id": "46a10c49-3e42-4d6b-a7b5-38a2f390779e",
   "metadata": {},
   "outputs": [],
   "source": []
  }
 ],
 "metadata": {
  "kernelspec": {
   "display_name": "Python 3 (ipykernel)",
   "language": "python",
   "name": "python3"
  },
  "language_info": {
   "codemirror_mode": {
    "name": "ipython",
    "version": 3
   },
   "file_extension": ".py",
   "mimetype": "text/x-python",
   "name": "python",
   "nbconvert_exporter": "python",
   "pygments_lexer": "ipython3",
   "version": "3.10.8"
  }
 },
 "nbformat": 4,
 "nbformat_minor": 5
}
