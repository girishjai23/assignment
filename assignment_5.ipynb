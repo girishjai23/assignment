{
 "cells": [
  {
   "cell_type": "code",
   "execution_count": null,
   "id": "26670483-282c-4534-8e6a-4de114c332b8",
   "metadata": {},
   "outputs": [],
   "source": [
    "# Q1.\n",
    "class vehicle:\n",
    "    \n",
    "    def __init__(self,name_of_vehicle,max_speed,average_of_vehicle):\n",
    "        self.name_of_vehicle = name_of_vehicle\n",
    "        self.max_speed = max_speed\n",
    "        self.average_of_vehicle = average_of_vehicle\n",
    "        self.seating_capacity = 0"
   ]
  },
  {
   "cell_type": "code",
   "execution_count": null,
   "id": "080d4fdf-6edb-41c5-8a6c-eb80f99d1b96",
   "metadata": {},
   "outputs": [],
   "source": [
    "#Q2.\n",
    "class car(vehicle):\n",
    "    \n",
    "    def seating_capacity(self,capacity):\n",
    "        self.seating_capacity = capacity\n",
    "        return f'{self.name} and {self.seating_capacity}'"
   ]
  },
  {
   "cell_type": "code",
   "execution_count": null,
   "id": "c3a8633e-1220-4a9e-b2e1-dc145c7ec3d4",
   "metadata": {},
   "outputs": [],
   "source": [
    "# Q3.\n",
    "\n",
    "'''\n",
    "A class can be derived from more than one superclass in Python.\n",
    "it is called multiple inheritance.\n",
    "'''\n",
    "# Example:-\n",
    "\n",
    "class student:\n",
    "    \n",
    "    def __init__(self,name,phone,email_id,sex):\n",
    "        self.name = name\n",
    "        self.phone = phone\n",
    "        self.email_id = email_id,\n",
    "        self.sex = sex\n",
    "        \n",
    "class artCourseStudant(student):\n",
    "    \n",
    "    def __init__(self,course):\n",
    "        self.course = course\n",
    "    \n",
    "class scienceCourseStudent(student):\n",
    "    \n",
    "    def __init__(self,course):\n",
    "        self.course = course\n",
    "    "
   ]
  },
  {
   "cell_type": "code",
   "execution_count": null,
   "id": "529da2ba-47cc-462b-899b-0147faa4fb6e",
   "metadata": {},
   "outputs": [],
   "source": [
    "# Q4.\n",
    "# Getter:-\n",
    "\"\"\"\n",
    "A method that allows to access an attribute 'private' in a given class.\n",
    "\"\"\"\n",
    "\n",
    "# Setter:-\n",
    "\"\"\"\n",
    "A method that allows to set or mutate the value of an attribute 'private' in a class\n",
    "\"\"\"\n",
    "\n",
    "class Label:\n",
    "    \n",
    "    def __init__(self,name,mobile):\n",
    "        self._name = name\n",
    "        self.set_mob(mobile)\n",
    "        \n",
    "        \n",
    "    def getter_mob(self):\n",
    "        return self._mobile\n",
    "\n",
    "    def set_mob(self,mobile):\n",
    "        self._mobile =mobile\n"
   ]
  },
  {
   "cell_type": "code",
   "execution_count": null,
   "id": "e1927760-476b-4611-95d0-9673eadf8b21",
   "metadata": {},
   "outputs": [],
   "source": [
    "# Q5.\n",
    "\"\"\"\n",
    "Method Overriding in Python is an OOPs concept closely related to inheritance.\n",
    "when the parent class method of the same name, parameters and return type,\n",
    "it is known as method overriding.\n",
    "\"\"\"\n",
    "\n",
    "class Shape:\n",
    "    \n",
    "    def __init__(self):\n",
    "        pass\n",
    "    \n",
    "    def no_of_side(self):\n",
    "        print(\"I am class of shape\")\n",
    "\n",
    "class square(Shape):\n",
    "    \n",
    "    def no_of_side(self):\n",
    "        print(\"I am class of square.\")\n",
    "\n"
   ]
  }
 ],
 "metadata": {
  "kernelspec": {
   "display_name": "Python 3 (ipykernel)",
   "language": "python",
   "name": "python3"
  },
  "language_info": {
   "codemirror_mode": {
    "name": "ipython",
    "version": 3
   },
   "file_extension": ".py",
   "mimetype": "text/x-python",
   "name": "python",
   "nbconvert_exporter": "python",
   "pygments_lexer": "ipython3",
   "version": "3.10.8"
  }
 },
 "nbformat": 4,
 "nbformat_minor": 5
}
