{
 "cells": [
  {
   "cell_type": "code",
   "execution_count": 7,
   "id": "005b989b-26e8-49fc-8f6e-4d0825ffc0bf",
   "metadata": {},
   "outputs": [],
   "source": [
    "#Q1.\n",
    "#class \n",
    "'''Class is blueprint of object, and class is keyword to create class'''\n",
    "#Object\n",
    "'''Object is instance or refernce or variable of class'''\n",
    "\n",
    "class student:\n",
    "    \n",
    "    def __init__(self,first_name,last_name,phone_no):\n",
    "        self.first_name = first_name\n",
    "        self.last_name = last_name\n",
    "        self.phone_no = phone_no\n",
    "        self.student_id = 0\n",
    "    \n",
    "    def create_id(self,student_id):\n",
    "        self.student_id = student_id\n",
    "        print(\"Student is create.\")\n",
    "    \n",
    "    def display_details(self):\n",
    "        print(f\"First Name:- {self.first_name}\")\n",
    "        print(f\"Last Name:- {self.last_name}\")\n",
    "        print(f\"Phone No.:-{self.phone_no}\")\n",
    "        print(f\"Student Id:- {self.student_id}\")\n",
    "\n",
    "student_1 = student(\"Satish\",\"Rai\",78923478)"
   ]
  },
  {
   "cell_type": "code",
   "execution_count": 8,
   "id": "4837cf56-0a18-48a6-a7bd-0e868a5cdfd2",
   "metadata": {},
   "outputs": [
    {
     "name": "stdout",
     "output_type": "stream",
     "text": [
      "Student is create.\n"
     ]
    }
   ],
   "source": [
    "student_1.create_id(121)"
   ]
  },
  {
   "cell_type": "code",
   "execution_count": 9,
   "id": "4ca8009f-cbea-472f-9045-0901e5d84114",
   "metadata": {},
   "outputs": [
    {
     "data": {
      "text/plain": [
       "'\\n1.Inheritance\\n2.Polymorphism\\n3.Encapsulation\\n4.Abstraction\\n\\n'"
      ]
     },
     "execution_count": 9,
     "metadata": {},
     "output_type": "execute_result"
    }
   ],
   "source": [
    "#Q2. Four pillars of oop:\n",
    "'''\n",
    "1.Inheritance\n",
    "2.Polymorphism\n",
    "3.Encapsulation\n",
    "4.Abstraction\n",
    "\n",
    "'''"
   ]
  },
  {
   "cell_type": "code",
   "execution_count": null,
   "id": "b43018fc-6239-4d77-b4be-47c22aef34a1",
   "metadata": {},
   "outputs": [],
   "source": [
    "#Q3.\n",
    "'''\n",
    "The __init__ function is a constructor.\n",
    "The __init__ function is called every time an object is created from a class.\n",
    "The __init__ method lets the class initialize the object's attributes.\n",
    "It is only used within classes\n",
    "'''\n",
    "\n",
    "# Example\n",
    "\n",
    "class car:\n",
    "    \n",
    "    def __init__(self,company,model_name,speed,price):\n",
    "        \n",
    "        self.company = company\n",
    "        self.model_name = model_name\n",
    "        self.speed = speed\n",
    "        self.price = price\n"
   ]
  },
  {
   "cell_type": "code",
   "execution_count": null,
   "id": "8c390faf-c08b-4167-8b24-33e313536a73",
   "metadata": {},
   "outputs": [],
   "source": [
    "#Q4.\n",
    "'''\n",
    "SELF represents the instance of class,\n",
    "object can be access variables, attributes, and methods of a defined class\n",
    "'''"
   ]
  },
  {
   "cell_type": "code",
   "execution_count": 13,
   "id": "2cdfdcaa-3c3c-4b37-b93c-7c1aaeaf6f37",
   "metadata": {},
   "outputs": [],
   "source": [
    "#Q5.\n",
    "'''\n",
    "Inheritance allows us to define a class that inherits \n",
    "all the methods and properties from another class\n",
    "'''\n",
    "\n",
    "# Single Inheritance\n",
    "\n",
    "class parent:\n",
    "    \n",
    "    def parent_fun(self):\n",
    "        print(\"I am your parent\")\n",
    "    \n",
    "class child(parent):\n",
    "    pass\n"
   ]
  },
  {
   "cell_type": "code",
   "execution_count": 14,
   "id": "b78e0c07-324f-46d5-8246-97e7b3d19b73",
   "metadata": {},
   "outputs": [],
   "source": [
    "child_1 = child()"
   ]
  },
  {
   "cell_type": "code",
   "execution_count": 15,
   "id": "22f91ff7-593c-4f68-ad1c-07e66491abad",
   "metadata": {},
   "outputs": [
    {
     "name": "stdout",
     "output_type": "stream",
     "text": [
      "I am your parent\n"
     ]
    }
   ],
   "source": [
    "child_1.parent_fun()"
   ]
  },
  {
   "cell_type": "code",
   "execution_count": 20,
   "id": "f817ef15-1b87-4d9e-8405-cea4c7ce7649",
   "metadata": {},
   "outputs": [],
   "source": [
    "# Multilevel Inheritance:\n",
    "\n",
    "class parent:\n",
    "    def func1(self):\n",
    "        print(\"I am your grandparent.\")\n",
    "\n",
    "class child(parent):\n",
    "    \n",
    "    def func2(self):\n",
    "        print(\"I am your parent.\")\n",
    "\n",
    "class grandchild(child):\n",
    "    pass"
   ]
  },
  {
   "cell_type": "code",
   "execution_count": 21,
   "id": "1b1f00b0-81d0-4250-811e-85ef5f4143d0",
   "metadata": {},
   "outputs": [],
   "source": [
    "grand_boy = grandchild()"
   ]
  },
  {
   "cell_type": "code",
   "execution_count": 22,
   "id": "2f229b9f-7d10-4cec-a04e-e367f2c15cef",
   "metadata": {},
   "outputs": [
    {
     "name": "stdout",
     "output_type": "stream",
     "text": [
      "I am your grandparent.\n"
     ]
    }
   ],
   "source": [
    "grand_boy.func1()"
   ]
  },
  {
   "cell_type": "code",
   "execution_count": 23,
   "id": "c7e26098-67c3-4205-8e1c-fc1865503d48",
   "metadata": {},
   "outputs": [
    {
     "name": "stdout",
     "output_type": "stream",
     "text": [
      "I am your parent.\n"
     ]
    }
   ],
   "source": [
    "grand_boy.func2()"
   ]
  },
  {
   "cell_type": "code",
   "execution_count": 1,
   "id": "3b5af2a6-23f9-4622-9583-05a43d1cae97",
   "metadata": {},
   "outputs": [],
   "source": [
    "# Multiple Inheritance\n",
    "\n",
    "class Mammal:\n",
    "    \n",
    "    def mammal_info(self):\n",
    "        print(\"mammal can give direct birth\")\n",
    "\n",
    "class WingedAnimal:\n",
    "    \n",
    "    def winged_animal_info(self):\n",
    "        print(\"Winged animals can flap.\")\n",
    "\n",
    "class Bat(Mammal,WingedAnimal):\n",
    "    pass\n",
    "    "
   ]
  },
  {
   "cell_type": "code",
   "execution_count": 2,
   "id": "456c3f20-5dc0-40e9-9f66-2b1a83058e84",
   "metadata": {},
   "outputs": [],
   "source": [
    "b1 = Bat()"
   ]
  },
  {
   "cell_type": "code",
   "execution_count": 3,
   "id": "598a0197-7ec0-47b5-8367-5135aaee8f48",
   "metadata": {},
   "outputs": [
    {
     "name": "stdout",
     "output_type": "stream",
     "text": [
      "mammal can give direct birth\n",
      "Winged animals can flap.\n"
     ]
    }
   ],
   "source": [
    "b1.mammal_info()\n",
    "b1.winged_animal_info()"
   ]
  },
  {
   "cell_type": "code",
   "execution_count": 5,
   "id": "8f22cbdd-02af-4431-9610-28d87e14da72",
   "metadata": {},
   "outputs": [],
   "source": [
    "# Hierarchical Inheritance\n",
    "\n",
    "class parent:\n",
    "    def fun1(self):\n",
    "        print(\"Hello, Parent.\")\n",
    "\n",
    "class child1(parent):\n",
    "    def fun2(self):\n",
    "        print(\"Hello, Child1.\")\n",
    "    \n",
    "class child2(parent):\n",
    "    def fun3(self):\n",
    "        print(\"Hello,Child2.\")"
   ]
  },
  {
   "cell_type": "code",
   "execution_count": 6,
   "id": "c1b76c5c-d9fc-4ba8-9411-8873ddb8e3f3",
   "metadata": {},
   "outputs": [],
   "source": [
    "test1=child1()\n",
    "test2=child2()"
   ]
  },
  {
   "cell_type": "code",
   "execution_count": 7,
   "id": "3c4d00cc-7b40-422c-8e9e-7eb5d152b5e4",
   "metadata": {},
   "outputs": [
    {
     "name": "stdout",
     "output_type": "stream",
     "text": [
      "Hello, Parent.\n",
      "Hello, Child1.\n"
     ]
    }
   ],
   "source": [
    "test1.fun1()\n",
    "test1.fun2()"
   ]
  },
  {
   "cell_type": "code",
   "execution_count": 8,
   "id": "60fa99ac-0a24-4eff-9bc6-911e06c8e1e7",
   "metadata": {},
   "outputs": [
    {
     "name": "stdout",
     "output_type": "stream",
     "text": [
      "Hello, Parent.\n",
      "Hello,Child2.\n"
     ]
    }
   ],
   "source": [
    "test2.fun1()\n",
    "test2.fun3()"
   ]
  }
 ],
 "metadata": {
  "kernelspec": {
   "display_name": "Python 3 (ipykernel)",
   "language": "python",
   "name": "python3"
  },
  "language_info": {
   "codemirror_mode": {
    "name": "ipython",
    "version": 3
   },
   "file_extension": ".py",
   "mimetype": "text/x-python",
   "name": "python",
   "nbconvert_exporter": "python",
   "pygments_lexer": "ipython3",
   "version": "3.10.8"
  }
 },
 "nbformat": 4,
 "nbformat_minor": 5
}
