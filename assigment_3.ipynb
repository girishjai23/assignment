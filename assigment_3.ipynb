{
 "cells": [
  {
   "cell_type": "code",
   "execution_count": 10,
   "id": "7234cf87-5b9d-418d-bc32-13ca57ecb278",
   "metadata": {},
   "outputs": [
    {
     "data": {
      "text/plain": [
       "[('Sachin Tendulkar', 34357),\n",
       " ('Ricky Ponting', 27483),\n",
       " ('Jack Kallis', 25534),\n",
       " ('Virat Kohli', 24936)]"
      ]
     },
     "execution_count": 10,
     "metadata": {},
     "output_type": "execute_result"
    }
   ],
   "source": [
    "# Q1.\n",
    "# give list of tuple to sort base on int value using lambda function\n",
    "list_of_tuple = [('Sachin Tendulkar', 34357), ('Ricky Ponting', 27483), ('Jack Kallis', 25534), ('Virat Kohli', 24936)]\n",
    "sort_value  = [i for j in list_of_tuple for i in filter(lambda k: k[1] == j[1], list_of_tuple)]\n",
    "list(sort_value)"
   ]
  },
  {
   "cell_type": "code",
   "execution_count": 11,
   "id": "fd34275f-f4eb-4e5e-ac7d-47f875a16adc",
   "metadata": {},
   "outputs": [
    {
     "name": "stdout",
     "output_type": "stream",
     "text": [
      "[1, 4, 9, 16, 25, 36, 49, 64, 81, 100]\n"
     ]
    }
   ],
   "source": [
    "# Q2.squares of all the numbers\n",
    "\n",
    "number_list = [1, 2, 3, 4, 5, 6, 7, 8, 9, 10]\n",
    "\n",
    "squ_of_list = map(lambda x : x**2,number_list)\n",
    "\n",
    "print(list(squ_of_list))\n"
   ]
  },
  {
   "cell_type": "code",
   "execution_count": 12,
   "id": "1338dc9b-4f37-493e-bebf-becd364d7b59",
   "metadata": {},
   "outputs": [
    {
     "name": "stdout",
     "output_type": "stream",
     "text": [
      "('1', '2', '3', '4', '5', '6', '7', '8', '9', '10')\n"
     ]
    }
   ],
   "source": [
    "# Q3. convert the given list of integers into a tuple of strings\n",
    "# given list\n",
    "num_list = [1, 2, 3, 4, 5, 6, 7, 8, 9, 10]\n",
    "\n",
    "string_tuple = map(lambda x:str(x),num_list)\n",
    "\n",
    "print(tuple(string_tuple))"
   ]
  },
  {
   "cell_type": "code",
   "execution_count": 2,
   "id": "611495fe-9ca6-4b93-adb5-7b36cc2cc617",
   "metadata": {},
   "outputs": [
    {
     "name": "stdout",
     "output_type": "stream",
     "text": [
      "15511210043330985984000000\n"
     ]
    }
   ],
   "source": [
    "# Q4.first create list from 1 to 25 using lisst compre.\n",
    "from functools import reduce\n",
    "list_of_num = [i for i in range(1,26)]\n",
    "\n",
    "product = reduce(lambda x,y : x*y,list_of_num)\n",
    "\n",
    "print(product)"
   ]
  },
  {
   "cell_type": "code",
   "execution_count": 8,
   "id": "dd232a82-7b2d-4da8-a7e2-84b98d1e0dfb",
   "metadata": {},
   "outputs": [
    {
     "name": "stdout",
     "output_type": "stream",
     "text": [
      "[6, 60, 90, 120]\n"
     ]
    }
   ],
   "source": [
    "# Q5.filter the numbers in a given list that are divisible by 2 and 3 using the\n",
    "list_num = [2, 3, 6, 9, 27, 60, 90, 120, 55, 46]\n",
    "\n",
    "filter_list = filter(lambda x: x%2==0 and x%3==0 ,list_num)\n",
    "print(list(filter_list))"
   ]
  },
  {
   "cell_type": "code",
   "execution_count": 9,
   "id": "e204b244-4bd5-4423-8a60-aac9572eaf1c",
   "metadata": {},
   "outputs": [
    {
     "name": "stdout",
     "output_type": "stream",
     "text": [
      "['php', 'aba', 'radar', 'level']\n"
     ]
    }
   ],
   "source": [
    "# Q6. palindromes in the given list of strings\n",
    "string = ['python', 'php', 'aba', 'radar', 'level']\n",
    "filter_list = filter(lambda x: x==x[::-1],string)\n",
    "print(list(filter_list))"
   ]
  },
  {
   "cell_type": "code",
   "execution_count": null,
   "id": "e0492a53-5cdb-4118-882d-554fc0c56069",
   "metadata": {},
   "outputs": [],
   "source": []
  }
 ],
 "metadata": {
  "kernelspec": {
   "display_name": "Python 3 (ipykernel)",
   "language": "python",
   "name": "python3"
  },
  "language_info": {
   "codemirror_mode": {
    "name": "ipython",
    "version": 3
   },
   "file_extension": ".py",
   "mimetype": "text/x-python",
   "name": "python",
   "nbconvert_exporter": "python",
   "pygments_lexer": "ipython3",
   "version": "3.10.8"
  }
 },
 "nbformat": 4,
 "nbformat_minor": 5
}
