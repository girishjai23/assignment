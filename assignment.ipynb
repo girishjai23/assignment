{
 "cells": [
  {
   "cell_type": "code",
   "execution_count": 2,
   "id": "d29c46f8-d38b-4016-b0b5-ddaf984d2daf",
   "metadata": {},
   "outputs": [
    {
     "name": "stdin",
     "output_type": "stream",
     "text": [
      "Enter your number. 2\n"
     ]
    },
    {
     "name": "stdout",
     "output_type": "stream",
     "text": [
      "2*1=2\n",
      "2*2=4\n",
      "2*3=6\n",
      "2*4=8\n",
      "2*5=10\n",
      "2*6=12\n",
      "2*7=14\n",
      "2*8=16\n",
      "2*9=18\n",
      "2*10=20\n"
     ]
    },
    {
     "name": "stdin",
     "output_type": "stream",
     "text": [
      "enter your range of number. 10\n"
     ]
    },
    {
     "data": {
      "text/plain": [
       "[0, 2, 4, 6, 8, 10]"
      ]
     },
     "execution_count": 2,
     "metadata": {},
     "output_type": "execute_result"
    }
   ],
   "source": [
    "# Q1.\n",
    "\"\"\" the for loop is used to run a block of code a certain number of times.\"\"\"\n",
    "# for example:\n",
    "# using for loop to print table\n",
    "num = int(input(\"Enter your number.\"))\n",
    "for i in range(1,11):\n",
    "    result = num*i\n",
    "    print(f\"{num}*{i}={result}\")\n",
    "    \n",
    "\n",
    "\"\"\"the while loop is used to run a block of code a certain condition\"\"\"\n",
    "# for example\n",
    "# fill the even number of give range of user number\n",
    "num = int(input(\"enter your range of number.\"))\n",
    "list_of_even = []\n",
    "counter = 0\n",
    "while counter <=num:\n",
    "    if counter %2 ==0:\n",
    "        list_of_even.append(counter)\n",
    "    counter = counter +1\n",
    "list_of_even"
   ]
  },
  {
   "cell_type": "code",
   "execution_count": 11,
   "id": "81427c81-1046-4779-9eca-b2975f4c8b82",
   "metadata": {},
   "outputs": [
    {
     "name": "stdout",
     "output_type": "stream",
     "text": [
      "55\n",
      "55\n"
     ]
    }
   ],
   "source": [
    "#Q2.\n",
    "# to print sum of 10 natural number\n",
    "num = 10\n",
    "result_f = 0\n",
    "for i in range(1,num+1):\n",
    "    result_f = result_f + i\n",
    "print(result_f)\n",
    "\n",
    "# using while loop to print sum of 10 natural number\n",
    "num =10\n",
    "result_w = 0\n",
    "\n",
    "while num >0:\n",
    "    result_w = result_w + num\n",
    "    num = num -1\n",
    "print(result_w)"
   ]
  },
  {
   "cell_type": "code",
   "execution_count": 13,
   "id": "b1654fa8-da5c-4f4c-bf5b-b474ce770c40",
   "metadata": {},
   "outputs": [
    {
     "name": "stdout",
     "output_type": "stream",
     "text": [
      "3628800\n",
      "3628800\n"
     ]
    }
   ],
   "source": [
    "#Q2.\n",
    "# to print product of 10 natural number\n",
    "num = 10\n",
    "result_f = 1\n",
    "for i in range(1,num+1):\n",
    "    result_f = result_f*i\n",
    "print(result_f)\n",
    "\n",
    "# using while loop to print product of 10 natural number\n",
    "num =10\n",
    "result_w = 1\n",
    "\n",
    "while num >0:\n",
    "    result_w = result_w * num\n",
    "    num = num -1\n",
    "print(result_w)"
   ]
  },
  {
   "cell_type": "code",
   "execution_count": 2,
   "id": "0a443942-0fd9-443e-802e-7ecc0b6d0b6c",
   "metadata": {},
   "outputs": [
    {
     "name": "stdin",
     "output_type": "stream",
     "text": [
      "Enter your unit 310\n"
     ]
    },
    {
     "name": "stdout",
     "output_type": "stream",
     "text": [
      "Rs.2250.0 electricity bill\n"
     ]
    }
   ],
   "source": [
    "#Q3.\n",
    "#python program to compute the electricity bill for a household.\n",
    "\n",
    "unit = int(input(\"Enter your unit\"))\n",
    "if unit<=100:\n",
    "    bill = unit*4.5\n",
    "    print(f\"Rs.{bill} electricity bill\")\n",
    "elif unit >100 and unit <= 200:\n",
    "    bill = unit*4.5 + ((unit-100)*6)\n",
    "    print(f\"Rs.{bill} electricity bill\")\n",
    "elif unit >200 and unit <=300:\n",
    "    bill = 100*4.5 + 100*6 + ((unit-200)*10)\n",
    "    print(f\"Rs.{bill} electricity bill\")\n",
    "else:\n",
    "    bill = 100*4.5 + 100*6 + 100*10 + ((unit-300)*20)\n",
    "    print(f\"Rs.{bill} electricity bill\")"
   ]
  },
  {
   "cell_type": "code",
   "execution_count": 4,
   "id": "f8a03cba-2764-42ce-960a-47e65b79c76c",
   "metadata": {},
   "outputs": [
    {
     "data": {
      "text/plain": [
       "[8,\n",
       " 64,\n",
       " 125,\n",
       " 216,\n",
       " 512,\n",
       " 1000,\n",
       " 1728,\n",
       " 2744,\n",
       " 3375,\n",
       " 4096,\n",
       " 5832,\n",
       " 8000,\n",
       " 10648,\n",
       " 13824,\n",
       " 15625,\n",
       " 17576,\n",
       " 21952,\n",
       " 27000,\n",
       " 32768,\n",
       " 39304,\n",
       " 42875,\n",
       " 46656,\n",
       " 54872,\n",
       " 64000,\n",
       " 74088,\n",
       " 85184,\n",
       " 91125,\n",
       " 97336,\n",
       " 110592,\n",
       " 125000,\n",
       " 140608,\n",
       " 157464,\n",
       " 166375,\n",
       " 175616,\n",
       " 195112,\n",
       " 216000,\n",
       " 238328,\n",
       " 262144,\n",
       " 274625,\n",
       " 287496,\n",
       " 314432,\n",
       " 343000,\n",
       " 373248,\n",
       " 405224,\n",
       " 421875,\n",
       " 438976,\n",
       " 474552,\n",
       " 512000,\n",
       " 551368,\n",
       " 592704,\n",
       " 614125,\n",
       " 636056,\n",
       " 681472,\n",
       " 729000,\n",
       " 778688,\n",
       " 830584,\n",
       " 857375,\n",
       " 884736,\n",
       " 941192,\n",
       " 1000000]"
      ]
     },
     "execution_count": 4,
     "metadata": {},
     "output_type": "execute_result"
    }
   ],
   "source": [
    "# Q4. Create list of 1 to 100 number using for loop\n",
    "number_list = []\n",
    "for i in range(1,101):\n",
    "    number_list.append(i)\n",
    "# using for loop \n",
    "cube_list = []\n",
    "for i in number_list:\n",
    "    cube_value = i**3\n",
    "    if cube_value % 4 == 0 or cube_value % 5 == 0:\n",
    "        cube_list.append(cube_value)\n",
    "cube_list"
   ]
  },
  {
   "cell_type": "code",
   "execution_count": 5,
   "id": "037f5ec7-6519-4d84-a29a-6440389bd5c8",
   "metadata": {},
   "outputs": [
    {
     "data": {
      "text/plain": [
       "[8,\n",
       " 64,\n",
       " 125,\n",
       " 216,\n",
       " 512,\n",
       " 1000,\n",
       " 1728,\n",
       " 2744,\n",
       " 3375,\n",
       " 4096,\n",
       " 5832,\n",
       " 8000,\n",
       " 10648,\n",
       " 13824,\n",
       " 15625,\n",
       " 17576,\n",
       " 21952,\n",
       " 27000,\n",
       " 32768,\n",
       " 39304,\n",
       " 42875,\n",
       " 46656,\n",
       " 54872,\n",
       " 64000,\n",
       " 74088,\n",
       " 85184,\n",
       " 91125,\n",
       " 97336,\n",
       " 110592,\n",
       " 125000,\n",
       " 140608,\n",
       " 157464,\n",
       " 166375,\n",
       " 175616,\n",
       " 195112,\n",
       " 216000,\n",
       " 238328,\n",
       " 262144,\n",
       " 274625,\n",
       " 287496,\n",
       " 314432,\n",
       " 343000,\n",
       " 373248,\n",
       " 405224,\n",
       " 421875,\n",
       " 438976,\n",
       " 474552,\n",
       " 512000,\n",
       " 551368,\n",
       " 592704,\n",
       " 614125,\n",
       " 636056,\n",
       " 681472,\n",
       " 729000,\n",
       " 778688,\n",
       " 830584,\n",
       " 857375,\n",
       " 884736,\n",
       " 941192,\n",
       " 1000000]"
      ]
     },
     "execution_count": 5,
     "metadata": {},
     "output_type": "execute_result"
    }
   ],
   "source": [
    "#Q4. second part\n",
    "# using while loop\n",
    "cube_list = []\n",
    "i =1\n",
    "while i <=100:\n",
    "    cube_value = i**3\n",
    "    if cube_value % 4 == 0 or cube_value % 5 == 0:\n",
    "        cube_list.append(cube_value)\n",
    "    i=i+1\n",
    "cube_list"
   ]
  },
  {
   "cell_type": "code",
   "execution_count": null,
   "id": "8eef9015-f273-443b-92ce-2472b81f91fe",
   "metadata": {},
   "outputs": [],
   "source": [
    "#Q5 \n",
    "# create vowels list\n",
    "string = \"I want to become a data scientist\" \n",
    "vowels_list = [\"a\",\"e\",\"i\",\"o\",\"u\",\"A\",\"E\",\"I\",\"O\",\"U\"]\n",
    "vowels_count = 0\n",
    "\n",
    "for i in string:\n",
    "    if i in vowels_list:\n",
    "        vowels_count = vowels_count+1\n",
    "v\n",
    "    "
   ]
  }
 ],
 "metadata": {
  "kernelspec": {
   "display_name": "Python 3 (ipykernel)",
   "language": "python",
   "name": "python3"
  },
  "language_info": {
   "codemirror_mode": {
    "name": "ipython",
    "version": 3
   },
   "file_extension": ".py",
   "mimetype": "text/x-python",
   "name": "python",
   "nbconvert_exporter": "python",
   "pygments_lexer": "ipython3",
   "version": "3.10.8"
  }
 },
 "nbformat": 4,
 "nbformat_minor": 5
}
